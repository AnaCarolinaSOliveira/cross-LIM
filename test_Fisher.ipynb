{
 "cells": [
  {
   "cell_type": "code",
   "execution_count": 1,
   "metadata": {},
   "outputs": [],
   "source": [
    "from importlib import reload\n",
    "\n",
    "import universe\n",
    "reload(universe)\n",
    "from universe import *\n",
    "\n",
    "import projection_kernel\n",
    "reload(projection_kernel)\n",
    "from projection_kernel import *\n",
    "\n",
    "import p2d\n",
    "reload(p2d)\n",
    "from p2d import *"
   ]
  },
  {
   "cell_type": "code",
   "execution_count": 2,
   "metadata": {},
   "outputs": [
    {
     "name": "stdout",
     "output_type": "stream",
     "text": [
      "generate: 20.0, 3000.0\n"
     ]
    }
   ],
   "source": [
    "dss = 1.\n",
    "lMin = 20.   \n",
    "lMax = 3.e3  \n",
    "nL = 101\n",
    "fsky = 1.\n",
    "L, dL, Nmodes, Le = generateEllBins(lMin, lMax, nL, fsky) \n",
    "paramsUnivPlanck15 = {\n",
    "                    'output': 'dTk vTk mPk',#'lCl tCl pCl mPk',\n",
    "            #       'l_max_scalars': 2000,\n",
    "            #       'lensing': 'yes',\n",
    "                    'A_s': 2.3e-9,\n",
    "                    'n_s': 0.9624,\n",
    "                    'h': 0.6712,\n",
    "                    'N_ur': 3.046,\n",
    "                    'Omega_b': 0.0493,\n",
    "                    'Omega_cdm': 0.267,\n",
    "                    'Omega_k': 0.,\n",
    "                    'P_k_max_1/Mpc': 10.,\n",
    "                    'non linear': 'halofit',\n",
    "                    'z_max_pk': 100.\n",
    "                    }\n",
    "paramsHigh = {\n",
    "                    'output': 'dTk vTk mPk',#'lCl tCl pCl mPk',\n",
    "                    #'l_max_scalars': 2000,\n",
    "                    #'lensing': 'yes',\n",
    "                    'A_s': 2.3e-9 + dss*1.e-10,\n",
    "                    'n_s': 0.9624 + dss*0.01,\n",
    "                    'h': 0.6712 + dss*0.1,\n",
    "                    #'N_ur': 3.046,\n",
    "                    'Omega_b': 0.0493 + dss*0.0018,\n",
    "                    'Omega_cdm': 0.267 + dss*0.0066,\n",
    "                    'Omega_k': 0.,\n",
    "                    'P_k_max_1/Mpc': 10.,\n",
    "                    'non linear': 'halofit',\n",
    "                    'z_max_pk': 100.\n",
    "            }\n",
    "paramsLow = {\n",
    "                    'output': 'dTk vTk mPk',#'lCl tCl pCl mPk',\n",
    "                    #'l_max_scalars': 2000,\n",
    "                    #'lensing': 'yes',\n",
    "                    'A_s': 2.3e-9 - dss*1.e-10,\n",
    "                    'n_s': 0.9624 - dss*0.01,\n",
    "                    'h': 0.6712 - dss*0.1,\n",
    "                    #'N_ur': 3.046,\n",
    "                    'Omega_b': 0.0493 - dss*0.0018,\n",
    "                    'Omega_cdm': 0.267 - dss*0.0066,\n",
    "                    'Omega_k': 0.,\n",
    "                    'P_k_max_1/Mpc': 10.,\n",
    "                    'non linear': 'halofit',\n",
    "                    'z_max_pk': 100.\n",
    "            }"
   ]
  },
  {
   "cell_type": "code",
   "execution_count": 3,
   "metadata": {},
   "outputs": [],
   "source": [
    "def getDerivative(param, binedges, L):\n",
    "    # high\n",
    "    parameters = paramsUnivPlanck15.copy()\n",
    "    parameters[param] = paramsHigh[param]\n",
    "    u = Universe(params=parameters)\n",
    "    w_bin = WeightTracerLSSTBins(u, zphMin=binedges[0], zphMax=binedges[1])\n",
    "    w_other = WeightTracerLSSTSourcesDESCSRDV1(u) \n",
    "    p2d_high = P2dCross(u, u, w_bin, w_other, lBins=L, nProc=3, save=True)\n",
    "    dataHigh = p2d_high.P1h+p2d_high.P2h+p2d_high.Pnoise\n",
    "    # low\n",
    "    parameters = paramsUnivPlanck15.copy()\n",
    "    parameters[param] = paramsLow[param]\n",
    "    u = Universe(params=parameters)\n",
    "    w_bin = WeightTracerLSSTBins(u, zphMin=binedges[0], zphMax=binedges[1])\n",
    "    w_other = WeightTracerLSSTSourcesDESCSRDV1(u)\n",
    "    p2d_low = P2dCross(u, u, w_bin, w_other, lBins=L, nProc=3, save=True)\n",
    "    dataLow = p2d_low.P1h+p2d_low.P2h+p2d_low.Pnoise\n",
    "    \n",
    "    result = (dataHigh - dataLow) / (paramsHigh[param]-paramsLow[param])\n",
    "    return result\n",
    "\n",
    "def getCov(p_gg, Nmodes):\n",
    "    nData = nL\n",
    "    covMat = np.zeros((nData, nData))\n",
    "    cov = lambda Pac, Pbd, Pad, Pbc, Npairs: np.diagflat((Pac * Pbd + Pad * Pbc) / Npairs)\n",
    "    i1=0\n",
    "    i2=0 \n",
    "    p = p_gg.P1h+p_gg.P2h+p_gg.Pnoise \n",
    "    covBlock = cov(p, p, p, p, Nmodes)\n",
    "    covMat[i1*nL:(i1+1)*nL, i2*nL:(i2+1)*nL] = covBlock\n",
    "    return covMat \n",
    "\n",
    "def getFisher(p_gg, params, binedges, L, Nmodes):\n",
    "    nPar=len(params)\n",
    "    fisherData = np.zeros((nPar, nPar))\n",
    "    cov = getCov(p_gg, Nmodes)\n",
    "    invCov = np.linalg.inv(cov)\n",
    "    for i in range(nPar):\n",
    "        for j in range(nPar):\n",
    "            di = getDerivative(params[i], binedges, L)\n",
    "            dj = getDerivative(params[j], binedges, L)\n",
    "            fisherData[i,j] = np.dot(di.transpose(), np.dot(invCov, dj))\n",
    "    return fisherData\n",
    "    "
   ]
  },
  {
   "cell_type": "markdown",
   "metadata": {},
   "source": [
    "In this code, the Fisher analysis is done for a single observable $C_{\\ell}^{gg}$. This first test will be to run the analysis for the cross-product between the first redshift bin and the larger distribution of dn/dz, over the $\\Omega_b$ and $\\Omega_{CDM}$ parameters."
   ]
  },
  {
   "cell_type": "code",
   "execution_count": null,
   "metadata": {},
   "outputs": [
    {
     "name": "stdout",
     "output_type": "stream",
     "text": [
      "[[1.30434926e-05 1.97477444e-05]\n",
      " [1.97477444e-05 2.99037539e-05]]\n"
     ]
    }
   ],
   "source": [
    "u = UnivPlanck15()\n",
    "\n",
    "# computing the binedges for WeightTracerLSSTBins\n",
    "w = WeightTracerLSSTSourcesDESCSRDV1(u) \n",
    "nBins = 10\n",
    "binedges = w.splitBins(nBins)\n",
    "\n",
    "params = ['Omega_b', 'Omega_cdm']\n",
    "w_bin = WeightTracerLSSTBins(u, zphMin=binedges[0], zphMax=binedges[1])\n",
    "w_other = WeightTracerLSSTSourcesDESCSRDV1(u)\n",
    "p2d = P2dCross(u, u, w_bin, w_other, lBins=L, nProc=3, save=True)\n",
    "fisher = getFisher(p2d, params, binedges, L, Nmodes)\n",
    "\n",
    "#calculating the covariance matrix\n",
    "print(np.linalg.inv(fisher))"
   ]
  },
  {
   "cell_type": "markdown",
   "metadata": {},
   "source": [
    "### Checking $\\sigma(f_{sky})$ behavior"
   ]
  },
  {
   "cell_type": "markdown",
   "metadata": {},
   "source": [
    "I will now check the behavior of the errors as we change the fraction of the sky being used."
   ]
  },
  {
   "cell_type": "code",
   "execution_count": null,
   "metadata": {},
   "outputs": [
    {
     "name": "stdout",
     "output_type": "stream",
     "text": [
      "generate: 20.0, 3000.0\n",
      "generate: 20.0, 3000.0\n",
      "generate: 20.0, 3000.0\n",
      "generate: 20.0, 3000.0\n",
      "generate: 20.0, 3000.0\n",
      "generate: 20.0, 3000.0\n",
      "generate: 20.0, 3000.0\n",
      "generate: 20.0, 3000.0\n",
      "generate: 20.0, 3000.0\n",
      "generate: 20.0, 3000.0\n"
     ]
    }
   ],
   "source": [
    "fskies = np.arange(0.005, 1., 0.1)\n",
    "sigma_b = np.zeros(len(fskies))\n",
    "sigma_cdm = np.zeros(len(fskies))\n",
    "for i in range(len(fskies)):\n",
    "    L_new, dL, Nmodes_new, Le = generateEllBins(lMin, lMax, nL, fskies[i])\n",
    "    p2d_f = P2dCross(u, u, w_bin, w_other, lBins=L_new, nProc=3, save=True)\n",
    "    fisher_f = getFisher(p2d_f, params, binedges, L_new, Nmodes_new)\n",
    "    cov_f = np.linalg.inv(fisher_f)\n",
    "    sigma_b[i]=np.sqrt(cov_f[0][0])\n",
    "    sigma_cdm[i]=np.sqrt(cov_f[1][1])"
   ]
  },
  {
   "cell_type": "code",
   "execution_count": null,
   "metadata": {},
   "outputs": [
    {
     "data": {
      "image/png": "[encoded data removed]",
      "text/plain": [
       "<Figure size 432x288 with 1 Axes>"
      ]
     },
     "metadata": {
      "needs_background": "light"
     },
     "output_type": "display_data"
    }
   ],
   "source": [
    "plt.plot(fskies, sigma_b, color='seagreen', label=r'$\\sigma_{bb}$')\n",
    "plt.plot(fskies, sigma_cdm, color='palevioletred', label=r'$\\sigma_{CDMCDM}$')\n",
    "plt.ylabel(r'$\\sigma$')\n",
    "plt.xlabel(r'$f_{sky}$')\n",
    "plt.legend(loc='upper right')\n",
    "plt.grid()\n",
    "plt.savefig('/Users/anacarolinaoliveira/Downloads/fsky_sigma.pdf')"
   ]
  },
  {
   "cell_type": "markdown",
   "metadata": {},
   "source": [
    "### Testing Fisher for other $C_{\\ell}$"
   ]
  },
  {
   "cell_type": "markdown",
   "metadata": {},
   "source": [
    "Now, let's go back to the fsky=1 cases, and the test will now be done for other power spectra. I modify the derivative function to get the fisher matrix for the cross-cross for 2 adjacent redshift bins."
   ]
  },
  {
   "cell_type": "code",
   "execution_count": null,
   "metadata": {},
   "outputs": [
    {
     "name": "stdout",
     "output_type": "stream",
     "text": [
      "[[2.59729706e-06 3.85266391e-06]\n",
      " [3.85266391e-06 5.71836339e-06]]\n"
     ]
    }
   ],
   "source": [
    "def getDerivative(param, binedges, L):\n",
    "    # high\n",
    "    parameters = paramsUnivPlanck15.copy()\n",
    "    parameters[param] = paramsHigh[param]\n",
    "    u = Universe(params=parameters)\n",
    "    w_bin1 = WeightTracerLSSTBins(u, zphMin=binedges[3], zphMax=binedges[4])\n",
    "    w_bin2 = WeightTracerLSSTBins(u, zphMin=binedges[4], zphMax=binedges[5])\n",
    "    p2d_high = P2dCross(u, u, w_bin1, w_bin2, lBins=L, nProc=3, save=True)\n",
    "    dataHigh = p2d_high.P1h+p2d_high.P2h+p2d_high.Pnoise\n",
    "    # low\n",
    "    parameters = paramsUnivPlanck15.copy()\n",
    "    parameters[param] = paramsLow[param]\n",
    "    u = Universe(params=parameters)\n",
    "    w_bin1 = WeightTracerLSSTBins(u, zphMin=binedges[3], zphMax=binedges[4])\n",
    "    w_bin2 = WeightTracerLSSTBins(u, zphMin=binedges[4], zphMax=binedges[5])\n",
    "    p2d_low = P2dCross(u, u, w_bin1, w_bin2, lBins=L, nProc=3, save=True)\n",
    "    dataLow = p2d_low.P1h+p2d_low.P2h+p2d_low.Pnoise\n",
    "    result = (dataHigh - dataLow) / (paramsHigh[param]-paramsLow[param])\n",
    "    return result\n",
    "\n",
    "w_bin1 = WeightTracerLSSTBins(u, zphMin=binedges[3], zphMax=binedges[4])\n",
    "w_bin2 = WeightTracerLSSTBins(u, zphMin=binedges[4], zphMax=binedges[5])\n",
    "\n",
    "p2d_crossbins = P2dCross(u, u, w_bin1, w_bin2, lBins=L, nProc=3, save=True)\n",
    "fisher = getFisher(p2d_crossbins, params, binedges, L, Nmodes)\n",
    "\n",
    "print(np.linalg.inv(fisher))"
   ]
  },
  {
   "cell_type": "markdown",
   "metadata": {},
   "source": [
    "Now the auto-auto for 1 bin:"
   ]
  },
  {
   "cell_type": "code",
   "execution_count": null,
   "metadata": {},
   "outputs": [
    {
     "name": "stdout",
     "output_type": "stream",
     "text": [
      "[[2.85136533e-06 4.25397026e-06]\n",
      " [4.25397026e-06 6.35017281e-06]]\n"
     ]
    }
   ],
   "source": [
    "def getDerivative(param, binedges, L):\n",
    "    # high\n",
    "    parameters = paramsUnivPlanck15.copy()\n",
    "    parameters[param] = paramsHigh[param]\n",
    "    u = Universe(params=parameters)\n",
    "    w_bin = WeightTracerLSSTBins(u, zphMin=binedges[3], zphMax=binedges[4])\n",
    "    p2d_high = P2dAuto(u, u, w_bin, lBins=L, nProc=3, name='bin', save=True)\n",
    "    dataHigh = p2d_high.P1h+p2d_high.P2h+p2d_high.Pnoise\n",
    "    # low\n",
    "    parameters = paramsUnivPlanck15.copy()\n",
    "    parameters[param] = paramsLow[param]\n",
    "    u = Universe(params=parameters)\n",
    "    w_bin = WeightTracerLSSTBins(u, zphMin=binedges[3], zphMax=binedges[4])\n",
    "    p2d_low = P2dAuto(u, u, w_bin, lBins=L, nProc=3, name='bin', save=True)\n",
    "    dataLow = p2d_low.P1h+p2d_low.P2h+p2d_low.Pnoise\n",
    "    result = (dataHigh - dataLow) / (paramsHigh[param]-paramsLow[param])\n",
    "    return result\n",
    "\n",
    "w_bin = WeightTracerLSSTBins(u, zphMin=binedges[3], zphMax=binedges[4])\n",
    "\n",
    "p2d_auto = P2dAuto(u, u, w_bin, lBins=L, nProc=3, name='bin', save=True)\n",
    "fisher = getFisher(p2d_auto, params, binedges, L, Nmodes)\n",
    "\n",
    "print(np.linalg.inv(fisher))"
   ]
  },
  {
   "cell_type": "markdown",
   "metadata": {},
   "source": [
    "### Test different parameters "
   ]
  },
  {
   "cell_type": "code",
   "execution_count": 19,
   "metadata": {},
   "outputs": [],
   "source": [
    "u = UnivPlanck15()\n",
    "# computing the binedges for WeightTracerLSSTBins\n",
    "w = WeightTracerLSSTSourcesDESCSRDV1(u)\n",
    "nBins = 10\n",
    "binedges = w.splitBins(nBins)\n",
    "\n",
    "params = ['A_s', 'Omega_b']\n",
    "w_bin = WeightTracerLSSTBins(u, zphMin=binedges[0], zphMax=binedges[1])\n",
    "w_other = WeightTracerLSSTSourcesDESCSRDV1(u)\n",
    "p2d = P2dCross(u, u, w_bin, w_other, lBins=L, nProc=3, save=True)\n",
    "fisher = getFisher(p2d, params, binedges, L, Nmodes)"
   ]
  },
  {
   "cell_type": "code",
   "execution_count": 20,
   "metadata": {},
   "outputs": [
    {
     "name": "stdout",
     "output_type": "stream",
     "text": [
      "[[2.58176125e-20 1.49904067e-12]\n",
      " [1.49904067e-12 8.70562231e-05]]\n",
      "[[ 1.88886264e+23 -3.25247503e+15]\n",
      " [-3.25247503e+15  5.60165855e+07]]\n"
     ]
    }
   ],
   "source": [
    "print(np.linalg.inv(fisher))\n",
    "print(fisher)"
   ]
  },
  {
   "cell_type": "markdown",
   "metadata": {},
   "source": [
    "$\\sigma_{A_sA_s}^2$ is pretty low. Let's take a look at the derivative of the data vector wrt to it:"
   ]
  },
  {
   "cell_type": "code",
   "execution_count": 58,
   "metadata": {},
   "outputs": [],
   "source": [
    "def getDerivativedebug(param, binedges, L):\n",
    "    #original \n",
    "    parameters = paramsUnivPlanck15\n",
    "    u = Universe(params=parameters)\n",
    "    w_bin = WeightTracerLSSTBins(u, zphMin=binedges[5], zphMax=binedges[6])\n",
    "    w_other = WeightTracerLSSTSourcesDESCSRDV1(u) \n",
    "    p2d_ori = P2dCross(u, u, w_bin, w_other, lBins=L, nProc=3, save=True)\n",
    "    dataOriginal = p2d_ori.P1h+p2d_ori.P2h+p2d_ori.Pnoise\n",
    "    # high\n",
    "    parameters = paramsUnivPlanck15.copy()\n",
    "    parameters[param] = paramsHigh[param]\n",
    "    u = Universe(params=parameters)\n",
    "    w_bin = WeightTracerLSSTBins(u, zphMin=binedges[5], zphMax=binedges[6])\n",
    "    w_other = WeightTracerLSSTSourcesDESCSRDV1(u) \n",
    "    p2d_high = P2dCross(u, u, w_bin, w_other, lBins=L, nProc=3, save=True)\n",
    "    dataHigh = p2d_high.P1h+p2d_high.P2h+p2d_high.Pnoise\n",
    "    # low\n",
    "    parameters = paramsUnivPlanck15.copy()\n",
    "    parameters[param] = paramsLow[param]\n",
    "    u = Universe(params=parameters)\n",
    "    w_bin = WeightTracerLSSTBins(u, zphMin=binedges[5], zphMax=binedges[6])\n",
    "    w_other = WeightTracerLSSTSourcesDESCSRDV1(u)\n",
    "    p2d_low = P2dCross(u, u, w_bin, w_other, lBins=L, nProc=3, save=True)\n",
    "    dataLow = p2d_low.P1h+p2d_low.P2h+p2d_low.Pnoise\n",
    "    # print(dataOriginal/dataHigh)\n",
    "    # print(dataOriginal/dataLow)\n",
    "    print(dataHigh/dataOriginal - dataLow/dataOriginal)\n",
    "    result = (dataHigh - dataLow) / (paramsHigh[param]-paramsLow[param])\n",
    "    return result"
   ]
  },
  {
   "cell_type": "code",
   "execution_count": 59,
   "metadata": {},
   "outputs": [
    {
     "name": "stdout",
     "output_type": "stream",
     "text": [
      "[0.0861938  0.0859967  0.08605928 0.08639093 0.08692227 0.08744257\n",
      " 0.08784288 0.08817906 0.08854667 0.08899928 0.08953836 0.09012715\n",
      " 0.09071211 0.09124821 0.0917159  0.09212275 0.09249297 0.09285434\n",
      " 0.09322908 0.09362984 0.09405948 0.09451304 0.09498019 0.09544843\n",
      " 0.09590618 0.09634441 0.09675861 0.09714767 0.09751464 0.09786413\n",
      " 0.09820216 0.09853434 0.0988654  0.09919892 0.09953639 0.09987868\n",
      " 0.1002246  0.10057273 0.10092089 0.10126678 0.10160807 0.10194327\n",
      " 0.10227083 0.10258995 0.10290071 0.10320314 0.10349794 0.10378602\n",
      " 0.10406843 0.10434627 0.10462031 0.10489146 0.10516059 0.10542792\n",
      " 0.1056937  0.10595818 0.10622121 0.10648261 0.10674223 0.10699962\n",
      " 0.10725448 0.10750665 0.10775588 0.10800179 0.10824428 0.10848336\n",
      " 0.10871898 0.10895107 0.10917982 0.10940535 0.10962776 0.10984714\n",
      " 0.11006376 0.11027786 0.11048952 0.11069883 0.11090596 0.11111111\n",
      " 0.11131431 0.11151559 0.111715   0.11191263 0.11210854 0.11230264\n",
      " 0.11249491 0.11268535 0.11287401 0.11306088 0.11324589 0.113429\n",
      " 0.11361022 0.11378959 0.11396713 0.11414281 0.11431661 0.11448854\n",
      " 0.11465867 0.11482707 0.11499374 0.11515869 0.11532194]\n"
     ]
    },
    {
     "data": {
      "text/plain": [
       "array([697.0083458 , 410.3660265 , 335.49046748, 268.23254893,\n",
       "       217.69652861, 188.16238526, 171.89783273, 160.72534961,\n",
       "       150.18254515, 139.19597582, 128.41000009, 118.76206102,\n",
       "       110.79884613, 104.56366948,  99.75490477,  95.93302302,\n",
       "        92.67976156,  89.68479663,  86.77020829,  83.87334281,\n",
       "        81.00933631,  78.23180224,  75.60295454,  73.17119708,\n",
       "        70.96284653,  68.98198961,  67.21189002,  65.62622648,\n",
       "        64.19039484,  62.87157048,  61.63963595,  60.47079328,\n",
       "        59.34854717,  58.26156701,  57.20595697,  56.1796329 ,\n",
       "        55.18492888,  54.22455331,  53.30143477,  52.41807493,\n",
       "        51.57653047,  50.77636298,  50.01725878,  49.29750778,\n",
       "        48.61408845,  47.9642272 ,  47.34457153,  46.75193691,\n",
       "        46.18306996,  45.63510137,  45.10601975,  44.59373633,\n",
       "        44.09643471,  43.61325611,  43.14337203,  42.68607868,\n",
       "        42.24108858,  41.80811351,  41.38687907,  40.97745136,\n",
       "        40.5796634 ,  40.19318559,  39.81779862,  39.45340223,\n",
       "        39.09961916,  38.75600758,  38.42221423,  38.09787417,\n",
       "        37.7824365 ,  37.47546138,  37.17656968,  36.88537821,\n",
       "        36.60138439,  36.32417296,  36.05345367,  35.78894422,\n",
       "        35.53031879,  35.27725702,  35.02957934,  34.78710718,\n",
       "        34.54964271,  34.31698099,  34.08895731,  33.86549563,\n",
       "        33.64648887,  33.43179388,  33.22127314,  33.01481599,\n",
       "        32.81235412,  32.61381071,  32.41905341,  32.22796308,\n",
       "        32.04044081,  31.85640503,  31.6757803 ,  31.49846475,\n",
       "        31.32433051,  31.15327274,  30.98521251,  30.82007404,\n",
       "        30.65777556])"
      ]
     },
     "execution_count": 59,
     "metadata": {},
     "output_type": "execute_result"
    }
   ],
   "source": [
    "getDerivativedebug('A_s', binedges, L)"
   ]
  },
  {
   "cell_type": "markdown",
   "metadata": {},
   "source": [
    "### Cross check plotting "
   ]
  },
  {
   "cell_type": "code",
   "execution_count": 60,
   "metadata": {},
   "outputs": [
    {
     "name": "stdout",
     "output_type": "stream",
     "text": [
      "generate: 1.0, 1000.0\n"
     ]
    }
   ],
   "source": [
    "u = UnivPlanck15()\n",
    "\n",
    "# computing the binedges for WeightTracerLSSTBins\n",
    "w = WeightTracerLSSTSourcesDESCSRDV1(u)\n",
    "lMin = 1.   \n",
    "lMax = 1.e3 \n",
    "nBins = 10\n",
    "binedges = w.splitBins(nBins)\n",
    "params = ['Omega_b', 'Omega_cdm', 'Omega_k', 'A_s', 'h', 'n_s']\n",
    "L, dL, Nmodes, Le = generateEllBins(lMin, lMax, nL, fsky)\n",
    "\n",
    "w_bin = WeightTracerLSSTBins(u, zphMin=binedges[0], zphMax=binedges[1])\n",
    "w_other = WeightTracerLSSTSourcesDESCSRDV1(u)\n",
    "P = P2dCross(u, u, w_bin, w_other, lBins=L, nProc=3, save=True)\n",
    "Cl = P.P1h+P.P2h+P.Pnoise"
   ]
  },
  {
   "cell_type": "markdown",
   "metadata": {},
   "source": [
    "##### $\\frac{dlnC_{\\ell}}{dln(param)}$"
   ]
  },
  {
   "cell_type": "code",
   "execution_count": 41,
   "metadata": {},
   "outputs": [
    {
     "name": "stdout",
     "output_type": "stream",
     "text": [
      "generate: 1.0, 1000.0\n"
     ]
    },
    {
     "name": "stderr",
     "output_type": "stream",
     "text": [
      "/Users/anacarolinaoliveira/miniconda3/envs/LIMenv/lib/python3.6/site-packages/ipykernel_launcher.py:18: RuntimeWarning: invalid value encountered in true_divide\n"
     ]
    }
   ],
   "source": [
    "dlnCl = np.zeros((len(params), 101))\n",
    "for i in range(len(params)): \n",
    "    deriv = getDerivative(params[i], binedges, L)\n",
    "    frac = paramsUnivPlanck15[params[i]] / Cl\n",
    "    dlnCl[i] = frac * deriv"
   ]
  },
  {
   "cell_type": "code",
   "execution_count": 53,
   "metadata": {},
   "outputs": [
    {
     "data": {
      "image/png": "[encoded data removed]",
      "text/plain": [
       "<Figure size 432x288 with 1 Axes>"
      ]
     },
     "metadata": {
      "needs_background": "light"
     },
     "output_type": "display_data"
    }
   ],
   "source": [
    "plt.plot(L[1:], dlnCl[0][1:], color='palevioletred', label=r'$\\Omega_b^0$')\n",
    "plt.plot(L[1:], dlnCl[1][1:], color='seagreen', label=r'$\\Omega_{CDM}^0$')\n",
    "plt.plot(L[1:], dlnCl[3][1:], color='cornflowerblue', label=r'$A_s$')\n",
    "plt.plot(L[1:], dlnCl[4][1:], color='darkorange', label=r'$h^0$')\n",
    "plt.plot(L[1:], dlnCl[5][1:], color='slateblue', label=r'$n_s$')\n",
    "plt.xscale('log')\n",
    "plt.legend(frameon=False, ncol=len(params))\n",
    "plt.ylim(bottom=-1.5)\n",
    "plt.xlim(left=100)\n",
    "plt.xlabel(r'$\\ell$')\n",
    "plt.ylabel(r'$d ln C_{\\ell} / d ln Param.$')\n",
    "plt.savefig('/Users/anacarolinaoliveira/Downloads/dlnCl_check.pdf')"
   ]
  },
  {
   "cell_type": "markdown",
   "metadata": {},
   "source": [
    "##### $\\ell C_{\\ell}$"
   ]
  },
  {
   "cell_type": "code",
   "execution_count": 97,
   "metadata": {},
   "outputs": [
    {
     "data": {
      "image/png": "[encoded data removed]",
      "text/plain": [
       "<Figure size 720x144 with 1 Axes>"
      ]
     },
     "metadata": {
      "needs_background": "light"
     },
     "output_type": "display_data"
    }
   ],
   "source": [
    "w_bin = WeightTracerLSSTBins(u, zphMin=binedges[8], zphMax=binedges[9])\n",
    "Pauto = P2dAuto(u, u, w_bin, lBins=L, nProc=3, name='bin', save=True)\n",
    "Cl_auto = Pauto.P1h+Pauto.P2h+Pauto.Pnoise\n",
    "lCl = L*Cl_auto\n",
    "fig = plt.figure(figsize=(10, 2))\n",
    "plt.plot(L, lCl)\n",
    "plt.xscale('log')\n",
    "plt.yscale('log')\n",
    "plt.xlim(left=100, right=1000)\n",
    "plt.ylim(bottom=1e-05, top=0.01)\n",
    "plt.xlabel(r'$\\ell$')\n",
    "plt.ylabel(r'$\\ell C_{\\ell}$')\n",
    "plt.savefig('/Users/anacarolinaoliveira/Downloads/lCl_check.pdf')\n"
   ]
  },
  {
   "cell_type": "markdown",
   "metadata": {},
   "source": [
    "### $\\frac{\\sigma_{\\ell}}{C_{\\ell}}$"
   ]
  },
  {
   "cell_type": "code",
   "execution_count": 96,
   "metadata": {},
   "outputs": [
    {
     "data": {
      "image/png": "[encoded data removed]",
      "text/plain": [
       "<Figure size 432x288 with 1 Axes>"
      ]
     },
     "metadata": {
      "needs_background": "light"
     },
     "output_type": "display_data"
    }
   ],
   "source": [
    "Pauto = P2dAuto(u, u, w_bin, lBins=L, nProc=3, name='bin', save=True)\n",
    "Cl_auto = Pauto.P1h+Pauto.P2h+Pauto.Pnoise\n",
    "covMatrix = getCov(Pauto, Nmodes)\n",
    "sigmas = np.array([np.sqrt(covMatrix[i][i]) for i in range(len(covMatrix))])\n",
    "plt.plot(L, sigmas/Cl_auto)\n",
    "plt.xscale('log')\n",
    "plt.xlim(left=100, right=1000)\n",
    "plt.xlabel(r'$\\ell$')\n",
    "plt.ylabel(r'$\\sigma_{\\ell} / C_{\\ell}$')\n",
    "plt.savefig('/Users/anacarolinaoliveira/Downloads/sigmalCl_check.pdf')\n"
   ]
  },
  {
   "cell_type": "markdown",
   "metadata": {},
   "source": [
    "For the noiseless power spectrum, the relative uncertainty is independent of $\\ell$, which I think goes back to the fact that we have the same number of modes per $\\ell$ bin. "
   ]
  },
  {
   "cell_type": "markdown",
   "metadata": {},
   "source": [
    "### SNR\n"
   ]
  },
  {
   "cell_type": "code",
   "execution_count": 95,
   "metadata": {},
   "outputs": [
    {
     "name": "stdout",
     "output_type": "stream",
     "text": [
      "707.1064276330685\n"
     ]
    }
   ],
   "source": [
    "w_bin = WeightTracerLSSTBins(u, zphMin=binedges[8], zphMax=binedges[9])\n",
    "Pauto = P2dAuto(u, u, w_bin, lBins=L, nProc=3, name='bin', save=True)\n",
    "Cl_auto = Pauto.P1h+Pauto.P2h+Pauto.Pnoise\n",
    "covMatrix = getCov(Pauto, Nmodes)\n",
    "invertedCov = np.linalg.inv(covMatrix)\n",
    "snr = np.sqrt(np.dot(Cl_auto.transpose(), np.dot(invertedCov, Cl_auto)))\n",
    "print(snr)"
   ]
  },
  {
   "cell_type": "markdown",
   "metadata": {},
   "source": [
    "### Introducing noise "
   ]
  },
  {
   "cell_type": "markdown",
   "metadata": {},
   "source": [
    "So far, all the power spectra calculated were noiseless (they had the P.Pnoise term added, but since I didn't pass that argument in the P2d function, the term was just zero). Now, let's introduce the noise term. For that, we are (for now) limited to doing just auto-spectrum calculations, that have simple expressions for the noise power spectrum. The cross-spectrum noise term is a bit trickier and depends on which observables we're dealing with, so let's set them aside for the moment."
   ]
  },
  {
   "cell_type": "markdown",
   "metadata": {},
   "source": [
    "I will do the Fisher analysis for the auto-spectrum for an arbitrary redshift bin distribution. For this case, it's interesting to see how the sigmas behave as we increase the number of galaxies in the bin, so I will be running the calculation for multiple ngal cases. "
   ]
  },
  {
   "cell_type": "code",
   "execution_count": 4,
   "metadata": {},
   "outputs": [],
   "source": [
    "# defining new functions to enable change of ngal\n",
    "def getDerivative_diff_ngal(param, binedges, L, ngal):\n",
    "    # high\n",
    "    parameters = paramsUnivPlanck15.copy()\n",
    "    parameters[param] = paramsHigh[param]\n",
    "    u = Universe(params=parameters)\n",
    "    w = WeightTracerLSSTBins(u, zphMin=binedges[5], zphMax=binedges[6], ngal=ngal)\n",
    "    p2d_high = P2dAuto(u, u, w, pNoise=lambda l: 1./w.ngal, nProc=3, name='bin', save=True)\n",
    "    dataHigh = p2d_high.P1h+p2d_high.P2h+p2d_high.Pnoise\n",
    "    # low\n",
    "    parameters = paramsUnivPlanck15.copy()\n",
    "    parameters[param] = paramsLow[param]\n",
    "    u = Universe(params=parameters)\n",
    "    w = WeightTracerLSSTBins(u, zphMin=binedges[5], zphMax=binedges[6], ngal=ngal)\n",
    "    p2d_low = P2dAuto(u, u, w, pNoise=lambda l: 1./w.ngal, nProc=3, name='bin', save=True)\n",
    "    dataLow = p2d_low.P1h+p2d_low.P2h+p2d_low.Pnoise\n",
    "    \n",
    "    result = (dataHigh - dataLow) / (paramsHigh[param]-paramsLow[param])\n",
    "    return result\n",
    "\n",
    "def getFisher_diff_ngal(p_gg, params, binedges, L, Nmodes, ngal):\n",
    "    nPar=len(params)\n",
    "    fisherData = np.zeros((nPar, nPar))\n",
    "    cov = getCov(p_gg, Nmodes)\n",
    "    invCov = np.linalg.inv(cov)\n",
    "    for i in range(nPar):\n",
    "        for j in range(nPar):\n",
    "            di = getDerivative_diff_ngal(params[i], binedges, L, ngal)\n",
    "            dj = getDerivative_diff_ngal(params[j], binedges, L, ngal)\n",
    "            fisherData[i,j] = np.dot(di.transpose(), np.dot(invCov, dj))\n",
    "    return fisherData"
   ]
  },
  {
   "cell_type": "code",
   "execution_count": 30,
   "metadata": {},
   "outputs": [],
   "source": [
    "u = UnivPlanck15()\n",
    "\n",
    "# computing the binedges for WeightTracerLSSTBins\n",
    "w = WeightTracerLSSTSourcesDESCSRDV1(u) \n",
    "nBins = 10\n",
    "binedges = w.splitBins(nBins)\n",
    "\n",
    "params = ['Omega_b', 'Omega_cdm', 'A_s', 'n_s']\n",
    "ngals = np.arange(20, 101, 5)\n",
    "\n",
    "# dictionary to store covariance matrices \n",
    "covs = {}\n",
    "\n",
    "for ngal in ngals:\n",
    "    w = WeightTracerLSSTBins(u, zphMin=binedges[5], zphMax=binedges[6], ngal=ngal)\n",
    "    p2d = P2dAuto(u, u, w, pNoise=lambda l: 1./w.ngal, nProc=3, name='bin', save=True)\n",
    "    fisher = getFisher_diff_ngal(p2d, params, binedges, L, Nmodes, ngal)\n",
    "    covMatrix = np.linalg.inv(fisher)\n",
    "    covs[ngal]=covMatrix\n"
   ]
  },
  {
   "cell_type": "code",
   "execution_count": 40,
   "metadata": {},
   "outputs": [],
   "source": [
    "omega_b = [np.sqrt(covs[i][0][0]) for i in covs]\n",
    "omega_cdm = [np.sqrt(covs[i][1][1]) for i in covs]\n",
    "a_s = [np.sqrt(covs[i][2][2]) for i in covs]\n",
    "n_s = [np.sqrt(covs[i][3][3]) for i in covs]"
   ]
  },
  {
   "cell_type": "code",
   "execution_count": 55,
   "metadata": {},
   "outputs": [
    {
     "data": {
      "image/png": "[encoded data removed]",
      "text/plain": [
       "<Figure size 864x648 with 4 Axes>"
      ]
     },
     "metadata": {
      "needs_background": "light"
     },
     "output_type": "display_data"
    }
   ],
   "source": [
    "fig, axs = plt.subplots(2, 2, figsize=(12, 9), sharex=True)\n",
    "axs[0, 0].plot(ngals, omega_b, color='#2ca02c')\n",
    "axs[0, 0].set_title(r'$\\Omega_b$')\n",
    "axs[0, 0].set_ylabel(r'$\\sigma$')\n",
    "\n",
    "axs[0, 1].plot(ngals, omega_cdm, color='#2ca02c')\n",
    "axs[0, 1].set_title(r'$\\Omega_{CDM}$')\n",
    "\n",
    "axs[1, 0].plot(ngals, a_s, color='#2ca02c')\n",
    "axs[1, 0].set_title(r'$A_s$')\n",
    "axs[1, 0].set_xlabel(r'$n_{gal}$ per unit steradian')\n",
    "axs[1, 0].set_ylabel(r'$\\sigma$')\n",
    "\n",
    "axs[1, 1].plot(ngals, n_s, color='#2ca02c')\n",
    "axs[1, 1].set_title(r'$n_s$')\n",
    "axs[1, 1].set_xlabel(r'$n_{gal}$ per unit steradian')\n",
    "\n",
    "plt.savefig('/Users/anacarolinaoliveira/Downloads/ngal_check.pdf')\n"
   ]
  }
 ],
 "metadata": {
  "kernelspec": {
   "display_name": "LIMenv",
   "language": "python",
   "name": "python3"
  },
  "language_info": {
   "codemirror_mode": {
    "name": "ipython",
    "version": 3
   },
   "file_extension": ".py",
   "mimetype": "text/x-python",
   "name": "python",
   "nbconvert_exporter": "python",
   "pygments_lexer": "ipython3",
   "version": "3.6.13"
  }
 },
 "nbformat": 4,
 "nbformat_minor": 2
}
