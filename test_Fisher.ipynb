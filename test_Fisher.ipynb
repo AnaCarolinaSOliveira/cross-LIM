{
 "cells": [
  {
   "cell_type": "code",
   "execution_count": 13,
   "metadata": {},
   "outputs": [],
   "source": [
    "from importlib import reload\n",
    "\n",
    "import universe\n",
    "reload(universe)\n",
    "from universe import *\n",
    "\n",
    "import projection_kernel\n",
    "reload(projection_kernel)\n",
    "from projection_kernel import *\n",
    "\n",
    "import p2d\n",
    "reload(p2d)\n",
    "from p2d import *"
   ]
  },
  {
   "cell_type": "code",
   "execution_count": 14,
   "metadata": {},
   "outputs": [
    {
     "name": "stdout",
     "output_type": "stream",
     "text": [
      "generate: 20.0, 3000.0\n"
     ]
    }
   ],
   "source": [
    "dss = 1.\n",
    "lMin = 20.   \n",
    "lMax = 3.e3  \n",
    "nL = 101\n",
    "fsky = 1.\n",
    "L, dL, Nmodes, Le = generateEllBins(lMin, lMax, nL, fsky) \n",
    "paramsUnivPlanck15 = {\n",
    "                    'output': 'dTk vTk mPk',#'lCl tCl pCl mPk',\n",
    "            #       'l_max_scalars': 2000,\n",
    "            #       'lensing': 'yes',\n",
    "                    'A_s': 2.3e-9,\n",
    "                    'n_s': 0.9624,\n",
    "                    'h': 0.6712,\n",
    "                    'N_ur': 3.046,\n",
    "                    'Omega_b': 0.0493,\n",
    "                    'Omega_cdm': 0.267,\n",
    "                    'Omega_k': 0.,\n",
    "                    'P_k_max_1/Mpc': 10.,\n",
    "                    'non linear': 'halofit',\n",
    "                    'z_max_pk': 100.\n",
    "                    }\n",
    "paramsHigh = {\n",
    "                    'output': 'dTk vTk mPk',#'lCl tCl pCl mPk',\n",
    "                    #'l_max_scalars': 2000,\n",
    "                    #'lensing': 'yes',\n",
    "                    'A_s': 2.3e-9 + dss*1.e-10,\n",
    "                    'n_s': 0.9624 + dss*0.01,\n",
    "                    'h': 0.6712 + dss*0.1,\n",
    "                    #'N_ur': 3.046,\n",
    "                    'Omega_b': 0.0493 + dss*0.0018,\n",
    "                    'Omega_cdm': 0.267 + dss*0.0066,\n",
    "                    'Omega_k': 0.,\n",
    "                    'P_k_max_1/Mpc': 10.,\n",
    "                    'non linear': 'halofit',\n",
    "                    'z_max_pk': 100.\n",
    "            }\n",
    "paramsLow = {\n",
    "                    'output': 'dTk vTk mPk',#'lCl tCl pCl mPk',\n",
    "                    #'l_max_scalars': 2000,\n",
    "                    #'lensing': 'yes',\n",
    "                    'A_s': 2.3e-9 - dss*1.e-10,\n",
    "                    'n_s': 0.9624 - dss*0.01,\n",
    "                    'h': 0.6712 - dss*0.1,\n",
    "                    #'N_ur': 3.046,\n",
    "                    'Omega_b': 0.0493 - dss*0.0018,\n",
    "                    'Omega_cdm': 0.267 - dss*0.0066,\n",
    "                    'Omega_k': 0.,\n",
    "                    'P_k_max_1/Mpc': 10.,\n",
    "                    'non linear': 'halofit',\n",
    "                    'z_max_pk': 100.\n",
    "            }"
   ]
  },
  {
   "cell_type": "code",
   "execution_count": 15,
   "metadata": {},
   "outputs": [],
   "source": [
    "def getDerivative(param, binedges, L):\n",
    "    # high\n",
    "    parameters = paramsUnivPlanck15.copy()\n",
    "    parameters[param] = paramsHigh[param]\n",
    "    u = Universe(params=parameters)\n",
    "    w_bin = WeightTracerLSSTBins(u, zphMin=binedges[0], zphMax=binedges[1])\n",
    "    w_other = WeightTracerLSSTSourcesDESCSRDV1(u) \n",
    "    p2d_high = P2dCross(u, u, w_bin, w_other, lBins=L, nProc=3, save=True)\n",
    "    dataHigh = p2d_high.P1h+p2d_high.P2h+p2d_high.Pnoise\n",
    "    # low\n",
    "    parameters = paramsUnivPlanck15.copy()\n",
    "    parameters[param] = paramsLow[param]\n",
    "    u = Universe(params=parameters)\n",
    "    w_bin = WeightTracerLSSTBins(u, zphMin=binedges[0], zphMax=binedges[1])\n",
    "    w_other = WeightTracerLSSTSourcesDESCSRDV1(u)\n",
    "    p2d_low = P2dCross(u, u, w_bin, w_other, lBins=L, nProc=3, save=True)\n",
    "    dataLow = p2d_low.P1h+p2d_low.P2h+p2d_low.Pnoise\n",
    "    result = (dataHigh - dataLow) / (paramsHigh[param]-paramsLow[param])\n",
    "    return result\n",
    "\n",
    "def getCov(c1, Nmodes):\n",
    "    nData = nL\n",
    "    covMat = np.zeros((nData, nData))\n",
    "    cov = lambda Pac, Pbd, Pad, Pbc, Npairs: np.diagflat((Pac * Pbd + Pad * Pbc) / Npairs)\n",
    "    i1=0\n",
    "    i2=0 \n",
    "    p = c1.P1h+c1.P2h+c1.Pnoise \n",
    "    covBlock = cov(p, p, p, p, Nmodes)\n",
    "    covMat[i1*nL:(i1+1)*nL, i2*nL:(i2+1)*nL] = covBlock\n",
    "    return covMat \n",
    "\n",
    "def getFisher(c1, params, binedges, L, Nmodes):\n",
    "    nPar=len(params)\n",
    "    fisherData = np.zeros((nPar, nPar))\n",
    "    cov = getCov(c1, Nmodes)\n",
    "    invCov = np.linalg.inv(cov)\n",
    "    for i in range(nPar):\n",
    "        for j in range(nPar):\n",
    "            di = getDerivative(params[i], binedges, L)\n",
    "            dj = getDerivative(params[j], binedges, L)\n",
    "            fisherData[i,j] = np.dot(di.transpose(), np.dot(invCov, dj))\n",
    "    return fisherData\n",
    "    "
   ]
  },
  {
   "cell_type": "code",
   "execution_count": 16,
   "metadata": {},
   "outputs": [
    {
     "ename": "KeyboardInterrupt",
     "evalue": "",
     "output_type": "error",
     "traceback": [
      "\u001b[0;31m---------------------------------------------------------------------------\u001b[0m",
      "\u001b[0;31mKeyboardInterrupt\u001b[0m                         Traceback (most recent call last)",
      "\u001b[0;32m<ipython-input-16-12cb9fb2dd7e>\u001b[0m in \u001b[0;36m<module>\u001b[0;34m\u001b[0m\n\u001b[1;32m     10\u001b[0m \u001b[0mw_other\u001b[0m \u001b[0;34m=\u001b[0m \u001b[0mWeightTracerLSSTSourcesDESCSRDV1\u001b[0m\u001b[0;34m(\u001b[0m\u001b[0mu\u001b[0m\u001b[0;34m)\u001b[0m\u001b[0;34m\u001b[0m\u001b[0;34m\u001b[0m\u001b[0m\n\u001b[1;32m     11\u001b[0m \u001b[0mp2d\u001b[0m \u001b[0;34m=\u001b[0m \u001b[0mP2dCross\u001b[0m\u001b[0;34m(\u001b[0m\u001b[0mu\u001b[0m\u001b[0;34m,\u001b[0m \u001b[0mu\u001b[0m\u001b[0;34m,\u001b[0m \u001b[0mw_bin\u001b[0m\u001b[0;34m,\u001b[0m \u001b[0mw_other\u001b[0m\u001b[0;34m,\u001b[0m \u001b[0mlBins\u001b[0m\u001b[0;34m=\u001b[0m\u001b[0mL\u001b[0m\u001b[0;34m,\u001b[0m \u001b[0mnProc\u001b[0m\u001b[0;34m=\u001b[0m\u001b[0;36m3\u001b[0m\u001b[0;34m,\u001b[0m \u001b[0msave\u001b[0m\u001b[0;34m=\u001b[0m\u001b[0;32mTrue\u001b[0m\u001b[0;34m)\u001b[0m\u001b[0;34m\u001b[0m\u001b[0;34m\u001b[0m\u001b[0m\n\u001b[0;32m---> 12\u001b[0;31m \u001b[0mfisher\u001b[0m \u001b[0;34m=\u001b[0m \u001b[0mgetFisher\u001b[0m\u001b[0;34m(\u001b[0m\u001b[0mp2d\u001b[0m\u001b[0;34m,\u001b[0m \u001b[0mparams\u001b[0m\u001b[0;34m,\u001b[0m \u001b[0mbinedges\u001b[0m\u001b[0;34m,\u001b[0m \u001b[0mL\u001b[0m\u001b[0;34m,\u001b[0m \u001b[0mNmodes\u001b[0m\u001b[0;34m)\u001b[0m\u001b[0;34m\u001b[0m\u001b[0;34m\u001b[0m\u001b[0m\n\u001b[0m",
      "\u001b[0;32m<ipython-input-15-1041056259d6>\u001b[0m in \u001b[0;36mgetFisher\u001b[0;34m(c1, params, binedges, L, Nmodes)\u001b[0m\n\u001b[1;32m     37\u001b[0m     \u001b[0;32mfor\u001b[0m \u001b[0mi\u001b[0m \u001b[0;32min\u001b[0m \u001b[0mrange\u001b[0m\u001b[0;34m(\u001b[0m\u001b[0mnPar\u001b[0m\u001b[0;34m)\u001b[0m\u001b[0;34m:\u001b[0m\u001b[0;34m\u001b[0m\u001b[0;34m\u001b[0m\u001b[0m\n\u001b[1;32m     38\u001b[0m         \u001b[0;32mfor\u001b[0m \u001b[0mj\u001b[0m \u001b[0;32min\u001b[0m \u001b[0mrange\u001b[0m\u001b[0;34m(\u001b[0m\u001b[0mnPar\u001b[0m\u001b[0;34m)\u001b[0m\u001b[0;34m:\u001b[0m\u001b[0;34m\u001b[0m\u001b[0;34m\u001b[0m\u001b[0m\n\u001b[0;32m---> 39\u001b[0;31m             \u001b[0mdi\u001b[0m \u001b[0;34m=\u001b[0m \u001b[0mgetDerivative\u001b[0m\u001b[0;34m(\u001b[0m\u001b[0mparams\u001b[0m\u001b[0;34m[\u001b[0m\u001b[0mi\u001b[0m\u001b[0;34m]\u001b[0m\u001b[0;34m,\u001b[0m \u001b[0mbinedges\u001b[0m\u001b[0;34m,\u001b[0m \u001b[0mL\u001b[0m\u001b[0;34m)\u001b[0m\u001b[0;34m\u001b[0m\u001b[0;34m\u001b[0m\u001b[0m\n\u001b[0m\u001b[1;32m     40\u001b[0m             \u001b[0mdj\u001b[0m \u001b[0;34m=\u001b[0m \u001b[0mgetDerivative\u001b[0m\u001b[0;34m(\u001b[0m\u001b[0mparams\u001b[0m\u001b[0;34m[\u001b[0m\u001b[0mj\u001b[0m\u001b[0;34m]\u001b[0m\u001b[0;34m,\u001b[0m \u001b[0mbinedges\u001b[0m\u001b[0;34m,\u001b[0m \u001b[0mL\u001b[0m\u001b[0;34m)\u001b[0m\u001b[0;34m\u001b[0m\u001b[0;34m\u001b[0m\u001b[0m\n\u001b[1;32m     41\u001b[0m             \u001b[0mfisherData\u001b[0m\u001b[0;34m[\u001b[0m\u001b[0mi\u001b[0m\u001b[0;34m,\u001b[0m\u001b[0mj\u001b[0m\u001b[0;34m]\u001b[0m \u001b[0;34m=\u001b[0m \u001b[0mnp\u001b[0m\u001b[0;34m.\u001b[0m\u001b[0mdot\u001b[0m\u001b[0;34m(\u001b[0m\u001b[0mdi\u001b[0m\u001b[0;34m.\u001b[0m\u001b[0mtranspose\u001b[0m\u001b[0;34m(\u001b[0m\u001b[0;34m)\u001b[0m\u001b[0;34m,\u001b[0m \u001b[0mnp\u001b[0m\u001b[0;34m.\u001b[0m\u001b[0mdot\u001b[0m\u001b[0;34m(\u001b[0m\u001b[0minvCov\u001b[0m\u001b[0;34m,\u001b[0m \u001b[0mdj\u001b[0m\u001b[0;34m)\u001b[0m\u001b[0;34m)\u001b[0m\u001b[0;34m\u001b[0m\u001b[0;34m\u001b[0m\u001b[0m\n",
      "\u001b[0;32m<ipython-input-15-1041056259d6>\u001b[0m in \u001b[0;36mgetDerivative\u001b[0;34m(param, binedges, L)\u001b[0m\n\u001b[1;32m      6\u001b[0m     \u001b[0mw_bin\u001b[0m \u001b[0;34m=\u001b[0m \u001b[0mWeightTracerLSSTBins\u001b[0m\u001b[0;34m(\u001b[0m\u001b[0mu\u001b[0m\u001b[0;34m,\u001b[0m \u001b[0mzphMin\u001b[0m\u001b[0;34m=\u001b[0m\u001b[0mbinedges\u001b[0m\u001b[0;34m[\u001b[0m\u001b[0;36m0\u001b[0m\u001b[0;34m]\u001b[0m\u001b[0;34m,\u001b[0m \u001b[0mzphMax\u001b[0m\u001b[0;34m=\u001b[0m\u001b[0mbinedges\u001b[0m\u001b[0;34m[\u001b[0m\u001b[0;36m1\u001b[0m\u001b[0;34m]\u001b[0m\u001b[0;34m)\u001b[0m\u001b[0;34m\u001b[0m\u001b[0;34m\u001b[0m\u001b[0m\n\u001b[1;32m      7\u001b[0m     \u001b[0mw_other\u001b[0m \u001b[0;34m=\u001b[0m \u001b[0mWeightTracerLSSTSourcesDESCSRDV1\u001b[0m\u001b[0;34m(\u001b[0m\u001b[0mu\u001b[0m\u001b[0;34m)\u001b[0m\u001b[0;34m\u001b[0m\u001b[0;34m\u001b[0m\u001b[0m\n\u001b[0;32m----> 8\u001b[0;31m     \u001b[0mp2d_high\u001b[0m \u001b[0;34m=\u001b[0m \u001b[0mP2dCross\u001b[0m\u001b[0;34m(\u001b[0m\u001b[0mu\u001b[0m\u001b[0;34m,\u001b[0m \u001b[0mu\u001b[0m\u001b[0;34m,\u001b[0m \u001b[0mw_bin\u001b[0m\u001b[0;34m,\u001b[0m \u001b[0mw_other\u001b[0m\u001b[0;34m,\u001b[0m \u001b[0mlBins\u001b[0m\u001b[0;34m=\u001b[0m\u001b[0mL\u001b[0m\u001b[0;34m,\u001b[0m \u001b[0mnProc\u001b[0m\u001b[0;34m=\u001b[0m\u001b[0;36m3\u001b[0m\u001b[0;34m,\u001b[0m \u001b[0msave\u001b[0m\u001b[0;34m=\u001b[0m\u001b[0;32mTrue\u001b[0m\u001b[0;34m)\u001b[0m\u001b[0;34m\u001b[0m\u001b[0;34m\u001b[0m\u001b[0m\n\u001b[0m\u001b[1;32m      9\u001b[0m     \u001b[0mdataHigh\u001b[0m \u001b[0;34m=\u001b[0m \u001b[0mp2d_high\u001b[0m\u001b[0;34m.\u001b[0m\u001b[0mP1h\u001b[0m\u001b[0;34m+\u001b[0m\u001b[0mp2d_high\u001b[0m\u001b[0;34m.\u001b[0m\u001b[0mP2h\u001b[0m\u001b[0;34m+\u001b[0m\u001b[0mp2d_high\u001b[0m\u001b[0;34m.\u001b[0m\u001b[0mPnoise\u001b[0m\u001b[0;34m\u001b[0m\u001b[0;34m\u001b[0m\u001b[0m\n\u001b[1;32m     10\u001b[0m     \u001b[0;31m# low\u001b[0m\u001b[0;34m\u001b[0m\u001b[0;34m\u001b[0m\u001b[0;34m\u001b[0m\u001b[0m\n",
      "\u001b[0;32m~/Documents/Documents_MacBook/Stanford/Rotation/HaloGen-LIM_adapt/p2d.py\u001b[0m in \u001b[0;36m__init__\u001b[0;34m(self, U, P3dCross, Weight1, Weight2, name, lBins, pNoise, save, nProc)\u001b[0m\n\u001b[1;32m    817\u001b[0m       \u001b[0;31m# power spectrum\u001b[0m\u001b[0;34m\u001b[0m\u001b[0;34m\u001b[0m\u001b[0;34m\u001b[0m\u001b[0m\n\u001b[1;32m    818\u001b[0m       \u001b[0;32mif\u001b[0m \u001b[0msave\u001b[0m\u001b[0;34m:\u001b[0m\u001b[0;34m\u001b[0m\u001b[0;34m\u001b[0m\u001b[0m\n\u001b[0;32m--> 819\u001b[0;31m          \u001b[0mself\u001b[0m\u001b[0;34m.\u001b[0m\u001b[0msaveP\u001b[0m\u001b[0;34m(\u001b[0m\u001b[0;34m)\u001b[0m\u001b[0;34m\u001b[0m\u001b[0;34m\u001b[0m\u001b[0m\n\u001b[0m\u001b[1;32m    820\u001b[0m       \u001b[0mself\u001b[0m\u001b[0;34m.\u001b[0m\u001b[0mloadP\u001b[0m\u001b[0;34m(\u001b[0m\u001b[0;34m)\u001b[0m\u001b[0;34m\u001b[0m\u001b[0;34m\u001b[0m\u001b[0m\n\u001b[1;32m    821\u001b[0m \u001b[0;34m\u001b[0m\u001b[0m\n",
      "\u001b[0;32m~/Documents/Documents_MacBook/Stanford/Rotation/HaloGen-LIM_adapt/p2d.py\u001b[0m in \u001b[0;36msaveP\u001b[0;34m(self)\u001b[0m\n\u001b[1;32m     69\u001b[0m       \u001b[0mdata\u001b[0m\u001b[0;34m[\u001b[0m\u001b[0;34m:\u001b[0m\u001b[0;34m,\u001b[0m\u001b[0;36m0\u001b[0m\u001b[0;34m]\u001b[0m \u001b[0;34m=\u001b[0m \u001b[0mself\u001b[0m\u001b[0;34m.\u001b[0m\u001b[0mL\u001b[0m\u001b[0;34m.\u001b[0m\u001b[0mcopy\u001b[0m\u001b[0;34m(\u001b[0m\u001b[0;34m)\u001b[0m\u001b[0;34m\u001b[0m\u001b[0;34m\u001b[0m\u001b[0m\n\u001b[1;32m     70\u001b[0m       \u001b[0;31m#pool = Pool(ncpus=self.nProc)\u001b[0m\u001b[0;34m\u001b[0m\u001b[0;34m\u001b[0m\u001b[0;34m\u001b[0m\u001b[0m\n\u001b[0;32m---> 71\u001b[0;31m       \u001b[0mdata\u001b[0m\u001b[0;34m[\u001b[0m\u001b[0;34m:\u001b[0m\u001b[0;34m,\u001b[0m\u001b[0;36m1\u001b[0m\u001b[0;34m]\u001b[0m \u001b[0;34m=\u001b[0m \u001b[0mself\u001b[0m\u001b[0;34m.\u001b[0m\u001b[0mcomputeP\u001b[0m\u001b[0;34m(\u001b[0m\u001b[0mself\u001b[0m\u001b[0;34m.\u001b[0m\u001b[0mPn\u001b[0m\u001b[0;34m.\u001b[0m\u001b[0mp1hInt\u001b[0m\u001b[0;34m)\u001b[0m\u001b[0;34m\u001b[0m\u001b[0;34m\u001b[0m\u001b[0m\n\u001b[0m\u001b[1;32m     72\u001b[0m       \u001b[0mdata\u001b[0m\u001b[0;34m[\u001b[0m\u001b[0;34m:\u001b[0m\u001b[0;34m,\u001b[0m\u001b[0;36m2\u001b[0m\u001b[0;34m]\u001b[0m \u001b[0;34m=\u001b[0m \u001b[0mself\u001b[0m\u001b[0;34m.\u001b[0m\u001b[0mcomputeP\u001b[0m\u001b[0;34m(\u001b[0m\u001b[0mself\u001b[0m\u001b[0;34m.\u001b[0m\u001b[0mPn\u001b[0m\u001b[0;34m.\u001b[0m\u001b[0mp2hInt\u001b[0m\u001b[0;34m)\u001b[0m\u001b[0;34m\u001b[0m\u001b[0;34m\u001b[0m\u001b[0m\n\u001b[1;32m     73\u001b[0m       \u001b[0mdata\u001b[0m\u001b[0;34m[\u001b[0m\u001b[0;34m:\u001b[0m\u001b[0;34m,\u001b[0m\u001b[0;36m3\u001b[0m\u001b[0;34m]\u001b[0m \u001b[0;34m=\u001b[0m \u001b[0mnp\u001b[0m\u001b[0;34m.\u001b[0m\u001b[0marray\u001b[0m\u001b[0;34m(\u001b[0m\u001b[0mlist\u001b[0m\u001b[0;34m(\u001b[0m\u001b[0mmap\u001b[0m\u001b[0;34m(\u001b[0m\u001b[0mself\u001b[0m\u001b[0;34m.\u001b[0m\u001b[0mpNoise\u001b[0m\u001b[0;34m,\u001b[0m \u001b[0mself\u001b[0m\u001b[0;34m.\u001b[0m\u001b[0mL\u001b[0m\u001b[0;34m)\u001b[0m\u001b[0;34m)\u001b[0m\u001b[0;34m)\u001b[0m\u001b[0;34m\u001b[0m\u001b[0;34m\u001b[0m\u001b[0m\n",
      "\u001b[0;32m~/Documents/Documents_MacBook/Stanford/Rotation/HaloGen-LIM_adapt/p2d.py\u001b[0m in \u001b[0;36mcomputeP\u001b[0;34m(self, fp3d)\u001b[0m\n\u001b[1;32m    843\u001b[0m       \u001b[0mfp3dVect\u001b[0m \u001b[0;34m=\u001b[0m \u001b[0mnp\u001b[0m\u001b[0;34m.\u001b[0m\u001b[0mvectorize\u001b[0m\u001b[0;34m(\u001b[0m\u001b[0mfp3d\u001b[0m\u001b[0;34m)\u001b[0m\u001b[0;34m\u001b[0m\u001b[0;34m\u001b[0m\u001b[0m\n\u001b[1;32m    844\u001b[0m       \u001b[0mf\u001b[0m \u001b[0;34m=\u001b[0m \u001b[0;32mlambda\u001b[0m \u001b[0ml\u001b[0m\u001b[0;34m:\u001b[0m \u001b[0mfp3dVect\u001b[0m\u001b[0;34m(\u001b[0m\u001b[0;34m(\u001b[0m\u001b[0ml\u001b[0m \u001b[0;34m+\u001b[0m \u001b[0;36m0.5\u001b[0m\u001b[0;34m)\u001b[0m\u001b[0;34m/\u001b[0m\u001b[0mchi\u001b[0m\u001b[0;34m,\u001b[0m \u001b[0mz\u001b[0m\u001b[0;34m)\u001b[0m\u001b[0;34m\u001b[0m\u001b[0;34m\u001b[0m\u001b[0m\n\u001b[0;32m--> 845\u001b[0;31m       \u001b[0mintegrand\u001b[0m \u001b[0;34m=\u001b[0m \u001b[0mintegrand\u001b[0m\u001b[0;34m[\u001b[0m\u001b[0;32mNone\u001b[0m\u001b[0;34m,\u001b[0m\u001b[0;34m:\u001b[0m\u001b[0;34m]\u001b[0m \u001b[0;34m*\u001b[0m \u001b[0mnp\u001b[0m\u001b[0;34m.\u001b[0m\u001b[0marray\u001b[0m\u001b[0;34m(\u001b[0m\u001b[0mlist\u001b[0m\u001b[0;34m(\u001b[0m\u001b[0mmap\u001b[0m\u001b[0;34m(\u001b[0m\u001b[0mf\u001b[0m\u001b[0;34m,\u001b[0m \u001b[0mself\u001b[0m\u001b[0;34m.\u001b[0m\u001b[0mL\u001b[0m\u001b[0;34m)\u001b[0m\u001b[0;34m)\u001b[0m\u001b[0;34m)\u001b[0m\u001b[0;34m\u001b[0m\u001b[0;34m\u001b[0m\u001b[0m\n\u001b[0m\u001b[1;32m    846\u001b[0m       \u001b[0mintegrand\u001b[0m \u001b[0;34m*=\u001b[0m \u001b[0;34m-\u001b[0m\u001b[0;36m1.\u001b[0m  \u001b[0;31m# because a is in decreasing order\u001b[0m\u001b[0;34m\u001b[0m\u001b[0;34m\u001b[0m\u001b[0m\n\u001b[1;32m    847\u001b[0m \u001b[0;34m\u001b[0m\u001b[0m\n",
      "\u001b[0;32m~/Documents/Documents_MacBook/Stanford/Rotation/HaloGen-LIM_adapt/p2d.py\u001b[0m in \u001b[0;36m<lambda>\u001b[0;34m(l)\u001b[0m\n\u001b[1;32m    842\u001b[0m \u001b[0;34m\u001b[0m\u001b[0m\n\u001b[1;32m    843\u001b[0m       \u001b[0mfp3dVect\u001b[0m \u001b[0;34m=\u001b[0m \u001b[0mnp\u001b[0m\u001b[0;34m.\u001b[0m\u001b[0mvectorize\u001b[0m\u001b[0;34m(\u001b[0m\u001b[0mfp3d\u001b[0m\u001b[0;34m)\u001b[0m\u001b[0;34m\u001b[0m\u001b[0;34m\u001b[0m\u001b[0m\n\u001b[0;32m--> 844\u001b[0;31m       \u001b[0mf\u001b[0m \u001b[0;34m=\u001b[0m \u001b[0;32mlambda\u001b[0m \u001b[0ml\u001b[0m\u001b[0;34m:\u001b[0m \u001b[0mfp3dVect\u001b[0m\u001b[0;34m(\u001b[0m\u001b[0;34m(\u001b[0m\u001b[0ml\u001b[0m \u001b[0;34m+\u001b[0m \u001b[0;36m0.5\u001b[0m\u001b[0;34m)\u001b[0m\u001b[0;34m/\u001b[0m\u001b[0mchi\u001b[0m\u001b[0;34m,\u001b[0m \u001b[0mz\u001b[0m\u001b[0;34m)\u001b[0m\u001b[0;34m\u001b[0m\u001b[0;34m\u001b[0m\u001b[0m\n\u001b[0m\u001b[1;32m    845\u001b[0m       \u001b[0mintegrand\u001b[0m \u001b[0;34m=\u001b[0m \u001b[0mintegrand\u001b[0m\u001b[0;34m[\u001b[0m\u001b[0;32mNone\u001b[0m\u001b[0;34m,\u001b[0m\u001b[0;34m:\u001b[0m\u001b[0;34m]\u001b[0m \u001b[0;34m*\u001b[0m \u001b[0mnp\u001b[0m\u001b[0;34m.\u001b[0m\u001b[0marray\u001b[0m\u001b[0;34m(\u001b[0m\u001b[0mlist\u001b[0m\u001b[0;34m(\u001b[0m\u001b[0mmap\u001b[0m\u001b[0;34m(\u001b[0m\u001b[0mf\u001b[0m\u001b[0;34m,\u001b[0m \u001b[0mself\u001b[0m\u001b[0;34m.\u001b[0m\u001b[0mL\u001b[0m\u001b[0;34m)\u001b[0m\u001b[0;34m)\u001b[0m\u001b[0;34m)\u001b[0m\u001b[0;34m\u001b[0m\u001b[0;34m\u001b[0m\u001b[0m\n\u001b[1;32m    846\u001b[0m       \u001b[0mintegrand\u001b[0m \u001b[0;34m*=\u001b[0m \u001b[0;34m-\u001b[0m\u001b[0;36m1.\u001b[0m  \u001b[0;31m# because a is in decreasing order\u001b[0m\u001b[0;34m\u001b[0m\u001b[0;34m\u001b[0m\u001b[0m\n",
      "\u001b[0;32m~/miniconda3/envs/LIMenv/lib/python3.6/site-packages/numpy/lib/function_base.py\u001b[0m in \u001b[0;36m__call__\u001b[0;34m(self, *args, **kwargs)\u001b[0m\n\u001b[1;32m   2106\u001b[0m             \u001b[0mvargs\u001b[0m\u001b[0;34m.\u001b[0m\u001b[0mextend\u001b[0m\u001b[0;34m(\u001b[0m\u001b[0;34m[\u001b[0m\u001b[0mkwargs\u001b[0m\u001b[0;34m[\u001b[0m\u001b[0m_n\u001b[0m\u001b[0;34m]\u001b[0m \u001b[0;32mfor\u001b[0m \u001b[0m_n\u001b[0m \u001b[0;32min\u001b[0m \u001b[0mnames\u001b[0m\u001b[0;34m]\u001b[0m\u001b[0;34m)\u001b[0m\u001b[0;34m\u001b[0m\u001b[0;34m\u001b[0m\u001b[0m\n\u001b[1;32m   2107\u001b[0m \u001b[0;34m\u001b[0m\u001b[0m\n\u001b[0;32m-> 2108\u001b[0;31m         \u001b[0;32mreturn\u001b[0m \u001b[0mself\u001b[0m\u001b[0;34m.\u001b[0m\u001b[0m_vectorize_call\u001b[0m\u001b[0;34m(\u001b[0m\u001b[0mfunc\u001b[0m\u001b[0;34m=\u001b[0m\u001b[0mfunc\u001b[0m\u001b[0;34m,\u001b[0m \u001b[0margs\u001b[0m\u001b[0;34m=\u001b[0m\u001b[0mvargs\u001b[0m\u001b[0;34m)\u001b[0m\u001b[0;34m\u001b[0m\u001b[0;34m\u001b[0m\u001b[0m\n\u001b[0m\u001b[1;32m   2109\u001b[0m \u001b[0;34m\u001b[0m\u001b[0m\n\u001b[1;32m   2110\u001b[0m     \u001b[0;32mdef\u001b[0m \u001b[0m_get_ufunc_and_otypes\u001b[0m\u001b[0;34m(\u001b[0m\u001b[0mself\u001b[0m\u001b[0;34m,\u001b[0m \u001b[0mfunc\u001b[0m\u001b[0;34m,\u001b[0m \u001b[0margs\u001b[0m\u001b[0;34m)\u001b[0m\u001b[0;34m:\u001b[0m\u001b[0;34m\u001b[0m\u001b[0;34m\u001b[0m\u001b[0m\n",
      "\u001b[0;32m~/miniconda3/envs/LIMenv/lib/python3.6/site-packages/numpy/lib/function_base.py\u001b[0m in \u001b[0;36m_vectorize_call\u001b[0;34m(self, func, args)\u001b[0m\n\u001b[1;32m   2190\u001b[0m                       for a in args]\n\u001b[1;32m   2191\u001b[0m \u001b[0;34m\u001b[0m\u001b[0m\n\u001b[0;32m-> 2192\u001b[0;31m             \u001b[0moutputs\u001b[0m \u001b[0;34m=\u001b[0m \u001b[0mufunc\u001b[0m\u001b[0;34m(\u001b[0m\u001b[0;34m*\u001b[0m\u001b[0minputs\u001b[0m\u001b[0;34m)\u001b[0m\u001b[0;34m\u001b[0m\u001b[0;34m\u001b[0m\u001b[0m\n\u001b[0m\u001b[1;32m   2193\u001b[0m \u001b[0;34m\u001b[0m\u001b[0m\n\u001b[1;32m   2194\u001b[0m             \u001b[0;32mif\u001b[0m \u001b[0mufunc\u001b[0m\u001b[0;34m.\u001b[0m\u001b[0mnout\u001b[0m \u001b[0;34m==\u001b[0m \u001b[0;36m1\u001b[0m\u001b[0;34m:\u001b[0m\u001b[0;34m\u001b[0m\u001b[0;34m\u001b[0m\u001b[0m\n",
      "\u001b[0;32m~/Documents/Documents_MacBook/Stanford/Rotation/HaloGen-LIM_adapt/universe.py\u001b[0m in \u001b[0;36mp1hInt\u001b[0;34m(self, k, z)\u001b[0m\n\u001b[1;32m    126\u001b[0m          \u001b[0;32mreturn\u001b[0m \u001b[0;36m0.\u001b[0m\u001b[0;34m\u001b[0m\u001b[0;34m\u001b[0m\u001b[0m\n\u001b[1;32m    127\u001b[0m       \u001b[0;32melse\u001b[0m\u001b[0;34m:\u001b[0m\u001b[0;34m\u001b[0m\u001b[0;34m\u001b[0m\u001b[0m\n\u001b[0;32m--> 128\u001b[0;31m          \u001b[0;32mreturn\u001b[0m \u001b[0mself\u001b[0m\u001b[0;34m.\u001b[0m\u001b[0msp\u001b[0m\u001b[0;34m.\u001b[0m\u001b[0mget_pk\u001b[0m\u001b[0;34m(\u001b[0m\u001b[0mk\u001b[0m\u001b[0;34m,\u001b[0m \u001b[0mz\u001b[0m\u001b[0;34m)\u001b[0m \u001b[0;34m-\u001b[0m \u001b[0mself\u001b[0m\u001b[0;34m.\u001b[0m\u001b[0msp\u001b[0m\u001b[0;34m.\u001b[0m\u001b[0mget_pklin\u001b[0m\u001b[0;34m(\u001b[0m\u001b[0mk\u001b[0m\u001b[0;34m,\u001b[0m \u001b[0mz\u001b[0m\u001b[0;34m)\u001b[0m\u001b[0;34m\u001b[0m\u001b[0;34m\u001b[0m\u001b[0m\n\u001b[0m\u001b[1;32m    129\u001b[0m \u001b[0;34m\u001b[0m\u001b[0m\n\u001b[1;32m    130\u001b[0m    \u001b[0;32mdef\u001b[0m \u001b[0mpInt\u001b[0m\u001b[0;34m(\u001b[0m\u001b[0mself\u001b[0m\u001b[0;34m,\u001b[0m \u001b[0mk\u001b[0m\u001b[0;34m,\u001b[0m \u001b[0mz\u001b[0m\u001b[0;34m)\u001b[0m\u001b[0;34m:\u001b[0m\u001b[0;34m\u001b[0m\u001b[0;34m\u001b[0m\u001b[0m\n",
      "\u001b[0;31mKeyboardInterrupt\u001b[0m: "
     ]
    }
   ],
   "source": [
    "u = UnivPlanck15()\n",
    "\n",
    "# computing the binedges for WeightTracerLSSTBins\n",
    "w = WeightTracerLSSTSourcesDESCSRDV1(u)\n",
    "nBins = 10\n",
    "binedges = w.splitBins(nBins)\n",
    "\n",
    "params = ['Omega_b', 'Omega_cdm']\n",
    "w_bin = WeightTracerLSSTBins(u, zphMin=binedges[0], zphMax=binedges[1])\n",
    "w_other = WeightTracerLSSTSourcesDESCSRDV1(u)\n",
    "p2d = P2dCross(u, u, w_bin, w_other, lBins=L, nProc=3, save=True)\n",
    "fisher = getFisher(p2d, params, binedges, L, Nmodes)\n"
   ]
  },
  {
   "cell_type": "code",
   "execution_count": null,
   "metadata": {},
   "outputs": [
    {
     "name": "stdout",
     "output_type": "stream",
     "text": [
      "[[1.30434926e-05 1.97477444e-05]\n",
      " [1.97477444e-05 2.99037539e-05]]\n"
     ]
    }
   ],
   "source": [
    "#calculating the covariance matrix\n",
    "\n",
    "print(np.linalg.inv(fisher))"
   ]
  },
  {
   "cell_type": "markdown",
   "metadata": {},
   "source": [
    "### Checking $\\sigma(f_{sky})$ behavior"
   ]
  },
  {
   "cell_type": "markdown",
   "metadata": {},
   "source": [
    "I will now check the behavior of the errors as we change the fraction of the sky being used."
   ]
  },
  {
   "cell_type": "code",
   "execution_count": null,
   "metadata": {},
   "outputs": [
    {
     "name": "stdout",
     "output_type": "stream",
     "text": [
      "generate: 20.0, 3000.0\n",
      "generate: 20.0, 3000.0\n",
      "generate: 20.0, 3000.0\n",
      "generate: 20.0, 3000.0\n",
      "generate: 20.0, 3000.0\n",
      "generate: 20.0, 3000.0\n",
      "generate: 20.0, 3000.0\n",
      "generate: 20.0, 3000.0\n",
      "generate: 20.0, 3000.0\n",
      "generate: 20.0, 3000.0\n"
     ]
    }
   ],
   "source": [
    "fskies = np.arange(0.005, 1., 0.1)\n",
    "sigma_b = np.zeros(len(fskies))\n",
    "sigma_cdm = np.zeros(len(fskies))\n",
    "for i in range(len(fskies)):\n",
    "    L_new, dL, Nmodes_new, Le = generateEllBins(lMin, lMax, nL, fskies[i])\n",
    "    p2d_f = P2dCross(u, u, w_bin, w_other, lBins=L_new, nProc=3, save=True)\n",
    "    fisher_f = getFisher(p2d_f, params, binedges, L_new, Nmodes_new)\n",
    "    cov_f = np.linalg.inv(fisher_f)\n",
    "    sigma_b[i]=np.sqrt(cov_f[0][0])\n",
    "    sigma_cdm[i]=np.sqrt(cov_f[1][1])"
   ]
  },
  {
   "cell_type": "code",
   "execution_count": null,
   "metadata": {},
   "outputs": [
    {
     "data": {
      "image/png": "[encoded data removed]",
      "text/plain": [
       "<Figure size 432x288 with 1 Axes>"
      ]
     },
     "metadata": {
      "needs_background": "light"
     },
     "output_type": "display_data"
    }
   ],
   "source": [
    "plt.plot(fskies, sigma_b, color='seagreen', label=r'$\\sigma_{bb}$')\n",
    "plt.plot(fskies, sigma_cdm, color='palevioletred', label=r'$\\sigma_{CDMCDM}$')\n",
    "plt.ylabel(r'$\\sigma$')\n",
    "plt.xlabel(r'$f_{sky}$')\n",
    "plt.legend(loc='upper right')\n",
    "plt.grid()\n",
    "plt.savefig('/Users/anacarolinaoliveira/Downloads/fsky_sigma.pdf')"
   ]
  },
  {
   "cell_type": "markdown",
   "metadata": {},
   "source": [
    "### Testing Fisher for other $C_{\\ell}$"
   ]
  },
  {
   "cell_type": "markdown",
   "metadata": {},
   "source": [
    "Now, let's go back to the fsky=1 cases, and the test will now be done for other power spectra. I modify the derivative function to get the fisher matrix for the cross-cross for 2 adjacent redshift bins."
   ]
  },
  {
   "cell_type": "code",
   "execution_count": null,
   "metadata": {},
   "outputs": [
    {
     "name": "stdout",
     "output_type": "stream",
     "text": [
      "[[2.59729706e-06 3.85266391e-06]\n",
      " [3.85266391e-06 5.71836339e-06]]\n"
     ]
    }
   ],
   "source": [
    "def getDerivative(param, binedges, L):\n",
    "    # high\n",
    "    parameters = paramsUnivPlanck15.copy()\n",
    "    parameters[param] = paramsHigh[param]\n",
    "    u = Universe(params=parameters)\n",
    "    w_bin1 = WeightTracerLSSTBins(u, zphMin=binedges[3], zphMax=binedges[4])\n",
    "    w_bin2 = WeightTracerLSSTBins(u, zphMin=binedges[4], zphMax=binedges[5])\n",
    "    p2d_high = P2dCross(u, u, w_bin1, w_bin2, lBins=L, nProc=3, save=True)\n",
    "    dataHigh = p2d_high.P1h+p2d_high.P2h+p2d_high.Pnoise\n",
    "    # low\n",
    "    parameters = paramsUnivPlanck15.copy()\n",
    "    parameters[param] = paramsLow[param]\n",
    "    u = Universe(params=parameters)\n",
    "    w_bin1 = WeightTracerLSSTBins(u, zphMin=binedges[3], zphMax=binedges[4])\n",
    "    w_bin2 = WeightTracerLSSTBins(u, zphMin=binedges[4], zphMax=binedges[5])\n",
    "    p2d_low = P2dCross(u, u, w_bin1, w_bin2, lBins=L, nProc=3, save=True)\n",
    "    dataLow = p2d_low.P1h+p2d_low.P2h+p2d_low.Pnoise\n",
    "    result = (dataHigh - dataLow) / (paramsHigh[param]-paramsLow[param])\n",
    "    return result\n",
    "\n",
    "w_bin1 = WeightTracerLSSTBins(u, zphMin=binedges[3], zphMax=binedges[4])\n",
    "w_bin2 = WeightTracerLSSTBins(u, zphMin=binedges[4], zphMax=binedges[5])\n",
    "\n",
    "p2d_crossbins = P2dCross(u, u, w_bin1, w_bin2, lBins=L, nProc=3, save=True)\n",
    "fisher = getFisher(p2d_crossbins, params, binedges, L, Nmodes)\n",
    "\n",
    "print(np.linalg.inv(fisher))"
   ]
  },
  {
   "cell_type": "markdown",
   "metadata": {},
   "source": [
    "Now the auto-auto for 1 bin:"
   ]
  },
  {
   "cell_type": "code",
   "execution_count": null,
   "metadata": {},
   "outputs": [
    {
     "name": "stdout",
     "output_type": "stream",
     "text": [
      "[[2.85136533e-06 4.25397026e-06]\n",
      " [4.25397026e-06 6.35017281e-06]]\n"
     ]
    }
   ],
   "source": [
    "def getDerivative(param, binedges, L):\n",
    "    # high\n",
    "    parameters = paramsUnivPlanck15.copy()\n",
    "    parameters[param] = paramsHigh[param]\n",
    "    u = Universe(params=parameters)\n",
    "    w_bin = WeightTracerLSSTBins(u, zphMin=binedges[3], zphMax=binedges[4])\n",
    "    p2d_high = P2dAuto(u, u, w_bin, lBins=L, nProc=3, name='bin', save=True)\n",
    "    dataHigh = p2d_high.P1h+p2d_high.P2h+p2d_high.Pnoise\n",
    "    # low\n",
    "    parameters = paramsUnivPlanck15.copy()\n",
    "    parameters[param] = paramsLow[param]\n",
    "    u = Universe(params=parameters)\n",
    "    w_bin = WeightTracerLSSTBins(u, zphMin=binedges[3], zphMax=binedges[4])\n",
    "    p2d_low = P2dAuto(u, u, w_bin, lBins=L, nProc=3, name='bin', save=True)\n",
    "    dataLow = p2d_low.P1h+p2d_low.P2h+p2d_low.Pnoise\n",
    "    result = (dataHigh - dataLow) / (paramsHigh[param]-paramsLow[param])\n",
    "    return result\n",
    "\n",
    "w_bin = WeightTracerLSSTBins(u, zphMin=binedges[3], zphMax=binedges[4])\n",
    "\n",
    "p2d_auto = P2dAuto(u, u, w_bin, lBins=L, nProc=3, name='bin', save=True)\n",
    "fisher = getFisher(p2d_auto, params, binedges, L, Nmodes)\n",
    "\n",
    "print(np.linalg.inv(fisher))"
   ]
  },
  {
   "cell_type": "markdown",
   "metadata": {},
   "source": [
    "### Cross check plotting "
   ]
  },
  {
   "cell_type": "markdown",
   "metadata": {},
   "source": [
    "##### $\\frac{dlnC_{\\ell}}{dln(param)}$"
   ]
  },
  {
   "cell_type": "code",
   "execution_count": 41,
   "metadata": {},
   "outputs": [
    {
     "name": "stdout",
     "output_type": "stream",
     "text": [
      "generate: 1.0, 1000.0\n"
     ]
    },
    {
     "name": "stderr",
     "output_type": "stream",
     "text": [
      "/Users/anacarolinaoliveira/miniconda3/envs/LIMenv/lib/python3.6/site-packages/ipykernel_launcher.py:18: RuntimeWarning: invalid value encountered in true_divide\n"
     ]
    }
   ],
   "source": [
    "u = UnivPlanck15()\n",
    "\n",
    "# computing the binedges for WeightTracerLSSTBins\n",
    "w = WeightTracerLSSTSourcesDESCSRDV1(u)\n",
    "lMin = 1.   \n",
    "lMax = 1.e3 \n",
    "nBins = 10\n",
    "binedges = w.splitBins(nBins)\n",
    "params = ['Omega_b', 'Omega_cdm', 'Omega_k', 'A_s', 'h', 'n_s']\n",
    "L, dL, Nmodes, Le = generateEllBins(lMin, lMax, nL, fsky) \n",
    "\n",
    "w_bin = WeightTracerLSSTBins(u, zphMin=binedges[0], zphMax=binedges[1])\n",
    "w_other = WeightTracerLSSTSourcesDESCSRDV1(u)\n",
    "P = P2dCross(u, u, w_bin, w_other, lBins=L, nProc=3, save=True)\n",
    "Cl = P.P1h+P.P2h+P.Pnoise\n",
    "\n",
    "dlnCl = np.zeros((len(params), 101))\n",
    "for i in range(len(params)): \n",
    "    deriv = getDerivative(params[i], binedges, L)\n",
    "    frac = paramsUnivPlanck15[params[i]] / Cl\n",
    "    dlnCl[i] = frac * deriv"
   ]
  },
  {
   "cell_type": "code",
   "execution_count": 53,
   "metadata": {},
   "outputs": [
    {
     "data": {
      "image/png": "[encoded data removed]",
      "text/plain": [
       "<Figure size 432x288 with 1 Axes>"
      ]
     },
     "metadata": {
      "needs_background": "light"
     },
     "output_type": "display_data"
    }
   ],
   "source": [
    "plt.plot(L[1:], dlnCl[0][1:], color='palevioletred', label=r'$\\Omega_b^0$')\n",
    "plt.plot(L[1:], dlnCl[1][1:], color='seagreen', label=r'$\\Omega_{CDM}^0$')\n",
    "plt.plot(L[1:], dlnCl[3][1:], color='cornflowerblue', label=r'$A_s$')\n",
    "plt.plot(L[1:], dlnCl[4][1:], color='darkorange', label=r'$h^0$')\n",
    "plt.plot(L[1:], dlnCl[5][1:], color='slateblue', label=r'$n_s$')\n",
    "plt.xscale('log')\n",
    "plt.legend(frameon=False, ncol=len(params))\n",
    "plt.ylim(bottom=-1.5)\n",
    "plt.xlim(left=100)\n",
    "plt.xlabel(r'$\\ell$')\n",
    "plt.ylabel(r'$d ln C_{\\ell} / d ln Param.$')\n",
    "plt.savefig('/Users/anacarolinaoliveira/Downloads/dlnCl_check.pdf')"
   ]
  },
  {
   "cell_type": "markdown",
   "metadata": {},
   "source": [
    "##### $\\frac{\\sigma_{\\ell}}{C_{\\ell}}$"
   ]
  }
 ],
 "metadata": {
  "kernelspec": {
   "display_name": "LIMenv",
   "language": "python",
   "name": "python3"
  },
  "language_info": {
   "codemirror_mode": {
    "name": "ipython",
    "version": 3
   },
   "file_extension": ".py",
   "mimetype": "text/x-python",
   "name": "python",
   "nbconvert_exporter": "python",
   "pygments_lexer": "ipython3",
   "version": "3.6.13"
  }
 },
 "nbformat": 4,
 "nbformat_minor": 2
}
