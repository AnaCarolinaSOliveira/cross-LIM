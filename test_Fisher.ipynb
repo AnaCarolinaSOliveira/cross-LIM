{
 "cells": [
  {
   "cell_type": "code",
   "execution_count": 1,
   "metadata": {},
   "outputs": [],
   "source": [
    "from importlib import reload\n",
    "\n",
    "import universe\n",
    "reload(universe)\n",
    "from universe import *\n",
    "\n",
    "import projection_kernel\n",
    "reload(projection_kernel)\n",
    "from projection_kernel import *\n",
    "\n",
    "import p2d\n",
    "reload(p2d)\n",
    "from p2d import *"
   ]
  },
  {
   "cell_type": "code",
   "execution_count": 3,
   "metadata": {},
   "outputs": [
    {
     "name": "stdout",
     "output_type": "stream",
     "text": [
      "generate: 20.0, 3000.0\n"
     ]
    }
   ],
   "source": [
    "dss = 1.\n",
    "lMin = 20.   \n",
    "lMax = 3.e3  \n",
    "nL = 101\n",
    "fsky = 1.\n",
    "L, dL, Nmodes, Le = generateEllBins(lMin, lMax, nL, fsky) \n",
    "paramsUnivPlanck15 = {\n",
    "                    'output': 'dTk vTk mPk',#'lCl tCl pCl mPk',\n",
    "            #       'l_max_scalars': 2000,\n",
    "            #       'lensing': 'yes',\n",
    "                    'A_s': 2.3e-9,\n",
    "                    'n_s': 0.9624,\n",
    "                    'h': 0.6712,\n",
    "                    'N_ur': 3.046,\n",
    "                    'Omega_b': 0.0493,\n",
    "                    'Omega_cdm': 0.267,\n",
    "                    'Omega_k': 0.,\n",
    "                    'P_k_max_1/Mpc': 10.,\n",
    "                    'non linear': 'halofit',\n",
    "                    'z_max_pk': 100.\n",
    "                    }\n",
    "paramsHigh = {\n",
    "                    'output': 'dTk vTk mPk',#'lCl tCl pCl mPk',\n",
    "                    #'l_max_scalars': 2000,\n",
    "                    #'lensing': 'yes',\n",
    "                    'A_s': 2.3e-9 + dss*1.e-10,\n",
    "                    'n_s': 0.9624 + dss*0.01,\n",
    "                    'h': 0.6712 + dss*0.1,\n",
    "                    #'N_ur': 3.046,\n",
    "                    'Omega_b': 0.0493 + dss*0.0018,\n",
    "                    'Omega_cdm': 0.267 + dss*0.0066,\n",
    "                    'Omega_k': 0.,\n",
    "                    'P_k_max_1/Mpc': 10.,\n",
    "                    'non linear': 'halofit',\n",
    "                    'z_max_pk': 100.\n",
    "            }\n",
    "paramsLow = {\n",
    "                    'output': 'dTk vTk mPk',#'lCl tCl pCl mPk',\n",
    "                    #'l_max_scalars': 2000,\n",
    "                    #'lensing': 'yes',\n",
    "                    'A_s': 2.3e-9 - dss*1.e-10,\n",
    "                    'n_s': 0.9624 - dss*0.01,\n",
    "                    'h': 0.6712 - dss*0.1,\n",
    "                    #'N_ur': 3.046,\n",
    "                    'Omega_b': 0.0493 - dss*0.0018,\n",
    "                    'Omega_cdm': 0.267 - dss*0.0066,\n",
    "                    'Omega_k': 0.,\n",
    "                    'P_k_max_1/Mpc': 10.,\n",
    "                    'non linear': 'halofit',\n",
    "                    'z_max_pk': 100.\n",
    "            }"
   ]
  },
  {
   "cell_type": "code",
   "execution_count": 4,
   "metadata": {},
   "outputs": [],
   "source": [
    "def getDerivative(param, binedges, L):\n",
    "    # high\n",
    "    parameters = paramsUnivPlanck15.copy()\n",
    "    parameters[param] = paramsHigh[param]\n",
    "    u = Universe(params=parameters)\n",
    "    w_bin = WeightTracerLSSTBins(u, zphMin=binedges[0], zphMax=binedges[1])\n",
    "    w_other = WeightTracerLSSTSourcesDESCSRDV1(u) \n",
    "    p2d_high = P2dCross(u, u, w_bin, w_other, lBins=L, nProc=3, save=True)\n",
    "    dataHigh = p2d_high.P1h+p2d_high.P2h+p2d_high.Pnoise\n",
    "    # low\n",
    "    parameters = paramsUnivPlanck15.copy()\n",
    "    parameters[param] = paramsLow[param]\n",
    "    u = Universe(params=parameters)\n",
    "    w_bin = WeightTracerLSSTBins(u, zphMin=binedges[0], zphMax=binedges[1])\n",
    "    w_other = WeightTracerLSSTSourcesDESCSRDV1(u)\n",
    "    p2d_low = P2dCross(u, u, w_bin, w_other, lBins=L, nProc=3, save=True)\n",
    "    dataLow = p2d_low.P1h+p2d_low.P2h+p2d_low.Pnoise\n",
    "    result = (dataHigh - dataLow) / (paramsHigh[param]-paramsLow[param])\n",
    "    return result\n",
    "\n",
    "def getCov(c1, Nmodes):\n",
    "    nData = nL\n",
    "    covMat = np.zeros((nData, nData))\n",
    "    cov = lambda Pac, Pbd, Pad, Pbc, Npairs: np.diagflat((Pac * Pbd + Pad * Pbc) / Npairs)\n",
    "    i1=0\n",
    "    i2=0 \n",
    "    p = c1.P1h+c1.P2h+c1.Pnoise \n",
    "    covBlock = cov(p, p, p, p, Nmodes)\n",
    "    covMat[i1*nL:(i1+1)*nL, i2*nL:(i2+1)*nL] = covBlock\n",
    "    return covMat \n",
    "\n",
    "def getFisher(c1, params, binedges, L, Nmodes):\n",
    "    nPar=len(params)\n",
    "    fisherData = np.zeros((nPar, nPar))\n",
    "    cov = getCov(c1, Nmodes)\n",
    "    invCov = np.linalg.inv(cov)\n",
    "    for i in range(nPar):\n",
    "        for j in range(nPar):\n",
    "            di = getDerivative(params[i], binedges, L)\n",
    "            dj = getDerivative(params[j], binedges, L)\n",
    "            fisherData[i,j] = np.dot(di.transpose(), np.dot(invCov, dj))\n",
    "    return fisherData\n",
    "    "
   ]
  },
  {
   "cell_type": "code",
   "execution_count": 5,
   "metadata": {},
   "outputs": [],
   "source": [
    "u = UnivPlanck15()\n",
    "\n",
    "# computing the binedges for WeightTracerLSSTBins\n",
    "w = WeightTracerLSSTSourcesDESCSRDV1(u)\n",
    "nBins = 10\n",
    "binedges = w.splitBins(nBins)\n",
    "\n",
    "params = ['Omega_b', 'Omega_cdm']\n",
    "w_bin = WeightTracerLSSTBins(u, zphMin=binedges[0], zphMax=binedges[1])\n",
    "w_other = WeightTracerLSSTSourcesDESCSRDV1(u)\n",
    "p2d = P2dCross(u, u, w_bin, w_other, lBins=L, nProc=3, save=True)\n",
    "fisher = getFisher(p2d, params, binedges, L, Nmodes)\n"
   ]
  },
  {
   "cell_type": "code",
   "execution_count": 6,
   "metadata": {},
   "outputs": [
    {
     "name": "stdout",
     "output_type": "stream",
     "text": [
      "[[1.30434926e-05 1.97477444e-05]\n",
      " [1.97477444e-05 2.99037539e-05]]\n"
     ]
    }
   ],
   "source": [
    "#calculating the covariance matrix\n",
    "\n",
    "print(np.linalg.inv(fisher))"
   ]
  },
  {
   "cell_type": "markdown",
   "metadata": {},
   "source": [
    "### Checking $\\sigma(f_{sky})$ behavior"
   ]
  },
  {
   "cell_type": "markdown",
   "metadata": {},
   "source": [
    "I will now check the behavior of the errors as we change the fraction of the sky being used."
   ]
  },
  {
   "cell_type": "code",
   "execution_count": 7,
   "metadata": {},
   "outputs": [
    {
     "name": "stdout",
     "output_type": "stream",
     "text": [
      "generate: 20.0, 3000.0\n",
      "generate: 20.0, 3000.0\n",
      "generate: 20.0, 3000.0\n",
      "generate: 20.0, 3000.0\n",
      "generate: 20.0, 3000.0\n",
      "generate: 20.0, 3000.0\n",
      "generate: 20.0, 3000.0\n",
      "generate: 20.0, 3000.0\n",
      "generate: 20.0, 3000.0\n",
      "generate: 20.0, 3000.0\n"
     ]
    }
   ],
   "source": [
    "fskies = np.arange(0.005, 1., 0.1)\n",
    "sigma_b = np.zeros(len(fskies))\n",
    "sigma_cdm = np.zeros(len(fskies))\n",
    "for i in range(len(fskies)):\n",
    "    L_new, dL, Nmodes_new, Le = generateEllBins(lMin, lMax, nL, fskies[i])\n",
    "    p2d_f = P2dCross(u, u, w_bin, w_other, lBins=L_new, nProc=3, save=True)\n",
    "    fisher_f = getFisher(p2d_f, params, binedges, L_new, Nmodes_new)\n",
    "    cov_f = np.linalg.inv(fisher_f)\n",
    "    sigma_b[i]=np.sqrt(cov_f[0][0])\n",
    "    sigma_cdm[i]=np.sqrt(cov_f[1][1])"
   ]
  },
  {
   "cell_type": "code",
   "execution_count": 8,
   "metadata": {},
   "outputs": [
    {
     "data": {
      "image/png": "[encoded data removed]",
      "text/plain": [
       "<Figure size 432x288 with 1 Axes>"
      ]
     },
     "metadata": {
      "needs_background": "light"
     },
     "output_type": "display_data"
    }
   ],
   "source": [
    "plt.plot(fskies, sigma_b, color='seagreen', label=r'$\\sigma_{bb}$')\n",
    "plt.plot(fskies, sigma_cdm, color='palevioletred', label=r'$\\sigma_{CDMCDM}$')\n",
    "plt.ylabel(r'$\\sigma$')\n",
    "plt.xlabel(r'$f_{sky}$')\n",
    "plt.legend(loc='upper right')\n",
    "plt.grid()\n",
    "plt.savefig('/Users/anacarolinaoliveira/Downloads/fsky_sigma.pdf')"
   ]
  },
  {
   "cell_type": "markdown",
   "metadata": {},
   "source": [
    "### Testing Fisher for other $C_{\\ell}$"
   ]
  },
  {
   "cell_type": "markdown",
   "metadata": {},
   "source": [
    "Now, let's go back to the fsky=1 cases, and the test will now be done for other power spectra. I modify the derivative function to get the fisher matrix for the cross-cross for 2 adjacent redshift bins."
   ]
  },
  {
   "cell_type": "code",
   "execution_count": 9,
   "metadata": {},
   "outputs": [
    {
     "name": "stdout",
     "output_type": "stream",
     "text": [
      "[[2.59729706e-06 3.85266391e-06]\n",
      " [3.85266391e-06 5.71836339e-06]]\n"
     ]
    }
   ],
   "source": [
    "def getDerivative(param, binedges, L):\n",
    "    # high\n",
    "    parameters = paramsUnivPlanck15.copy()\n",
    "    parameters[param] = paramsHigh[param]\n",
    "    u = Universe(params=parameters)\n",
    "    w_bin1 = WeightTracerLSSTBins(u, zphMin=binedges[3], zphMax=binedges[4])\n",
    "    w_bin2 = WeightTracerLSSTBins(u, zphMin=binedges[4], zphMax=binedges[5])\n",
    "    p2d_high = P2dCross(u, u, w_bin1, w_bin2, lBins=L, nProc=3, save=True)\n",
    "    dataHigh = p2d_high.P1h+p2d_high.P2h+p2d_high.Pnoise\n",
    "    # low\n",
    "    parameters = paramsUnivPlanck15.copy()\n",
    "    parameters[param] = paramsLow[param]\n",
    "    u = Universe(params=parameters)\n",
    "    w_bin1 = WeightTracerLSSTBins(u, zphMin=binedges[3], zphMax=binedges[4])\n",
    "    w_bin2 = WeightTracerLSSTBins(u, zphMin=binedges[4], zphMax=binedges[5])\n",
    "    p2d_low = P2dCross(u, u, w_bin1, w_bin2, lBins=L, nProc=3, save=True)\n",
    "    dataLow = p2d_low.P1h+p2d_low.P2h+p2d_low.Pnoise\n",
    "    result = (dataHigh - dataLow) / (paramsHigh[param]-paramsLow[param])\n",
    "    return result\n",
    "\n",
    "w_bin1 = WeightTracerLSSTBins(u, zphMin=binedges[3], zphMax=binedges[4])\n",
    "w_bin2 = WeightTracerLSSTBins(u, zphMin=binedges[4], zphMax=binedges[5])\n",
    "\n",
    "p2d_crossbins = P2dCross(u, u, w_bin1, w_bin2, lBins=L, nProc=3, save=True)\n",
    "fisher = getFisher(p2d_crossbins, params, binedges, L, Nmodes)\n",
    "\n",
    "print(np.linalg.inv(fisher))"
   ]
  },
  {
   "cell_type": "markdown",
   "metadata": {},
   "source": [
    "Now the auto-auto for 1 bin:"
   ]
  },
  {
   "cell_type": "code",
   "execution_count": 11,
   "metadata": {},
   "outputs": [
    {
     "name": "stdout",
     "output_type": "stream",
     "text": [
      "[[2.85136533e-06 4.25397026e-06]\n",
      " [4.25397026e-06 6.35017281e-06]]\n"
     ]
    }
   ],
   "source": [
    "def getDerivative(param, binedges, L):\n",
    "    # high\n",
    "    parameters = paramsUnivPlanck15.copy()\n",
    "    parameters[param] = paramsHigh[param]\n",
    "    u = Universe(params=parameters)\n",
    "    w_bin = WeightTracerLSSTBins(u, zphMin=binedges[3], zphMax=binedges[4])\n",
    "    p2d_high = P2dAuto(u, u, w_bin, lBins=L, nProc=3, name='bin', save=True)\n",
    "    dataHigh = p2d_high.P1h+p2d_high.P2h+p2d_high.Pnoise\n",
    "    # low\n",
    "    parameters = paramsUnivPlanck15.copy()\n",
    "    parameters[param] = paramsLow[param]\n",
    "    u = Universe(params=parameters)\n",
    "    w_bin = WeightTracerLSSTBins(u, zphMin=binedges[3], zphMax=binedges[4])\n",
    "    p2d_low = P2dAuto(u, u, w_bin, lBins=L, nProc=3, name='bin', save=True)\n",
    "    dataLow = p2d_low.P1h+p2d_low.P2h+p2d_low.Pnoise\n",
    "    result = (dataHigh - dataLow) / (paramsHigh[param]-paramsLow[param])\n",
    "    return result\n",
    "\n",
    "w_bin = WeightTracerLSSTBins(u, zphMin=binedges[3], zphMax=binedges[4])\n",
    "\n",
    "p2d_auto = P2dAuto(u, u, w_bin, lBins=L, nProc=3, name='bin', save=True)\n",
    "fisher = getFisher(p2d_auto, params, binedges, L, Nmodes)\n",
    "\n",
    "print(np.linalg.inv(fisher))"
   ]
  }
 ],
 "metadata": {
  "kernelspec": {
   "display_name": "LIMenv",
   "language": "python",
   "name": "python3"
  },
  "language_info": {
   "codemirror_mode": {
    "name": "ipython",
    "version": 3
   },
   "file_extension": ".py",
   "mimetype": "text/x-python",
   "name": "python",
   "nbconvert_exporter": "python",
   "pygments_lexer": "ipython3",
   "version": "3.6.13"
  }
 },
 "nbformat": 4,
 "nbformat_minor": 2
}
